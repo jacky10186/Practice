{
  "cells": [
    {
      "cell_type": "markdown",
      "metadata": {
        "id": "fhaw4Gr8DlkL"
      },
      "source": [
        "# Fundamentals of machine learning"
      ]
    },
    {
      "cell_type": "markdown",
      "metadata": {
        "id": "rACQcE_QDlkM"
      },
      "source": [
        "## Generalization: The goal of machine learning"
      ]
    },
    {
      "cell_type": "markdown",
      "metadata": {
        "id": "gsMcSpB6DlkN"
      },
      "source": [
        "### Underfitting and overfitting"
      ]
    },
    {
      "cell_type": "markdown",
      "metadata": {
        "id": "BrCmRdzFDlkN"
      },
      "source": [
        "#### Noisy training data"
      ]
    },
    {
      "cell_type": "markdown",
      "metadata": {
        "id": "jxvqxFN-DlkN"
      },
      "source": [
        "#### Ambiguous features"
      ]
    },
    {
      "cell_type": "markdown",
      "metadata": {
        "id": "rfVpACf2DlkO"
      },
      "source": [
        "#### Rare features and spurious correlations"
      ]
    },
    {
      "cell_type": "markdown",
      "metadata": {
        "id": "5P_9uAXVDlkO"
      },
      "source": [
        "**Adding white-noise channels or all-zeros channels to MNIST**"
      ]
    },
    {
      "cell_type": "code",
      "execution_count": 1,
      "metadata": {
        "id": "0bj_clsdDlkP",
        "outputId": "2d72b4ec-95ee-493d-987f-ba46741702cf",
        "colab": {
          "base_uri": "https://localhost:8080/"
        }
      },
      "outputs": [
        {
          "output_type": "stream",
          "name": "stdout",
          "text": [
            "Downloading data from https://storage.googleapis.com/tensorflow/tf-keras-datasets/mnist.npz\n",
            "11493376/11490434 [==============================] - 0s 0us/step\n",
            "11501568/11490434 [==============================] - 0s 0us/step\n"
          ]
        }
      ],
      "source": [
        "from tensorflow.keras.datasets import mnist\n",
        "import numpy as np\n",
        "\n",
        "(train_images, train_labels), _ = mnist.load_data()\n",
        "train_images = train_images.reshape((60000, 28 * 28))\n",
        "train_images = train_images.astype(\"float32\") / 255\n",
        "\n",
        "train_images_with_noise_channels = np.concatenate(\n",
        "    [train_images, np.random.random((len(train_images), 784))], axis=1)\n",
        "\n",
        "train_images_with_zeros_channels = np.concatenate(\n",
        "    [train_images, np.zeros((len(train_images), 784))], axis=1)"
      ]
    },
    {
      "cell_type": "markdown",
      "metadata": {
        "id": "2MW_QDRsDlkQ"
      },
      "source": [
        "**Training the same model on MNIST data with noise channels or all-zero channels**"
      ]
    },
    {
      "cell_type": "code",
      "execution_count": 2,
      "metadata": {
        "id": "XY9-qa2aDlkR",
        "outputId": "64908928-6f2e-48ac-93fd-d55ec70e30ce",
        "colab": {
          "base_uri": "https://localhost:8080/"
        }
      },
      "outputs": [
        {
          "output_type": "stream",
          "name": "stdout",
          "text": [
            "Epoch 1/10\n",
            "375/375 [==============================] - 15s 36ms/step - loss: 0.6239 - accuracy: 0.8140 - val_loss: 0.2684 - val_accuracy: 0.9182\n",
            "Epoch 2/10\n",
            "375/375 [==============================] - 8s 20ms/step - loss: 0.2494 - accuracy: 0.9215 - val_loss: 0.1842 - val_accuracy: 0.9453\n",
            "Epoch 3/10\n",
            "375/375 [==============================] - 7s 19ms/step - loss: 0.1619 - accuracy: 0.9503 - val_loss: 0.1713 - val_accuracy: 0.9488\n",
            "Epoch 4/10\n",
            "375/375 [==============================] - 7s 19ms/step - loss: 0.1152 - accuracy: 0.9638 - val_loss: 0.1692 - val_accuracy: 0.9457\n",
            "Epoch 5/10\n",
            "375/375 [==============================] - 7s 19ms/step - loss: 0.0829 - accuracy: 0.9732 - val_loss: 0.1611 - val_accuracy: 0.9527\n",
            "Epoch 6/10\n",
            "375/375 [==============================] - 7s 19ms/step - loss: 0.0613 - accuracy: 0.9803 - val_loss: 0.1466 - val_accuracy: 0.9582\n",
            "Epoch 7/10\n",
            "375/375 [==============================] - 8s 22ms/step - loss: 0.0454 - accuracy: 0.9852 - val_loss: 0.1210 - val_accuracy: 0.9668\n",
            "Epoch 8/10\n",
            "375/375 [==============================] - 8s 21ms/step - loss: 0.0350 - accuracy: 0.9885 - val_loss: 0.1678 - val_accuracy: 0.9567\n",
            "Epoch 9/10\n",
            "375/375 [==============================] - 7s 19ms/step - loss: 0.0261 - accuracy: 0.9915 - val_loss: 0.1277 - val_accuracy: 0.9688\n",
            "Epoch 10/10\n",
            "375/375 [==============================] - 7s 19ms/step - loss: 0.0209 - accuracy: 0.9934 - val_loss: 0.1345 - val_accuracy: 0.9690\n",
            "Epoch 1/10\n",
            "375/375 [==============================] - 8s 19ms/step - loss: 0.2886 - accuracy: 0.9158 - val_loss: 0.1493 - val_accuracy: 0.9565\n",
            "Epoch 2/10\n",
            "375/375 [==============================] - 7s 19ms/step - loss: 0.1199 - accuracy: 0.9652 - val_loss: 0.1049 - val_accuracy: 0.9689\n",
            "Epoch 3/10\n",
            "375/375 [==============================] - 7s 19ms/step - loss: 0.0771 - accuracy: 0.9774 - val_loss: 0.0968 - val_accuracy: 0.9719\n",
            "Epoch 4/10\n",
            "375/375 [==============================] - 8s 22ms/step - loss: 0.0561 - accuracy: 0.9834 - val_loss: 0.0893 - val_accuracy: 0.9721\n",
            "Epoch 5/10\n",
            "375/375 [==============================] - 7s 20ms/step - loss: 0.0423 - accuracy: 0.9872 - val_loss: 0.0884 - val_accuracy: 0.9758\n",
            "Epoch 6/10\n",
            "375/375 [==============================] - 7s 19ms/step - loss: 0.0312 - accuracy: 0.9904 - val_loss: 0.0803 - val_accuracy: 0.9782\n",
            "Epoch 7/10\n",
            "375/375 [==============================] - 7s 19ms/step - loss: 0.0241 - accuracy: 0.9927 - val_loss: 0.0920 - val_accuracy: 0.9768\n",
            "Epoch 8/10\n",
            "375/375 [==============================] - 7s 19ms/step - loss: 0.0183 - accuracy: 0.9949 - val_loss: 0.0829 - val_accuracy: 0.9775\n",
            "Epoch 9/10\n",
            "375/375 [==============================] - 7s 19ms/step - loss: 0.0137 - accuracy: 0.9963 - val_loss: 0.0837 - val_accuracy: 0.9787\n",
            "Epoch 10/10\n",
            "375/375 [==============================] - 8s 22ms/step - loss: 0.0106 - accuracy: 0.9971 - val_loss: 0.0824 - val_accuracy: 0.9805\n"
          ]
        }
      ],
      "source": [
        "from tensorflow import keras\n",
        "from tensorflow.keras import layers\n",
        "\n",
        "def get_model():\n",
        "    model = keras.Sequential([\n",
        "        layers.Dense(512, activation=\"relu\"),\n",
        "        layers.Dense(10, activation=\"softmax\")\n",
        "    ])\n",
        "    model.compile(optimizer=\"rmsprop\",\n",
        "                  loss=\"sparse_categorical_crossentropy\",\n",
        "                  metrics=[\"accuracy\"])\n",
        "    return model\n",
        "\n",
        "model = get_model()\n",
        "history_noise = model.fit(\n",
        "    train_images_with_noise_channels, train_labels,\n",
        "    epochs=10,\n",
        "    batch_size=128,\n",
        "    validation_split=0.2)\n",
        "\n",
        "model = get_model()\n",
        "history_zeros = model.fit(\n",
        "    train_images_with_zeros_channels, train_labels,\n",
        "    epochs=10,\n",
        "    batch_size=128,\n",
        "    validation_split=0.2)"
      ]
    },
    {
      "cell_type": "markdown",
      "metadata": {
        "id": "Si229PO8DlkS"
      },
      "source": [
        "**Plotting a validation accuracy comparison**"
      ]
    },
    {
      "cell_type": "code",
      "execution_count": 3,
      "metadata": {
        "id": "h3S4rZdeDlkS",
        "outputId": "d500dfd4-8479-45bb-9f68-5bda0f24fd73",
        "colab": {
          "base_uri": "https://localhost:8080/",
          "height": 313
        }
      },
      "outputs": [
        {
          "output_type": "execute_result",
          "data": {
            "text/plain": [
              "<matplotlib.legend.Legend at 0x7f4b1ec4f350>"
            ]
          },
          "metadata": {},
          "execution_count": 3
        },
        {
          "output_type": "display_data",
          "data": {
            "text/plain": [
              "<Figure size 432x288 with 1 Axes>"
            ],
            "image/png": "[encoded data removed]"
          },
          "metadata": {
            "needs_background": "light"
          }
        }
      ],
      "source": [
        "import matplotlib.pyplot as plt\n",
        "val_acc_noise = history_noise.history[\"val_accuracy\"]\n",
        "val_acc_zeros = history_zeros.history[\"val_accuracy\"]\n",
        "epochs = range(1, 11)\n",
        "plt.plot(epochs, val_acc_noise, \"b-\",\n",
        "         label=\"Validation accuracy with noise channels\")\n",
        "plt.plot(epochs, val_acc_zeros, \"b--\",\n",
        "         label=\"Validation accuracy with zeros channels\")\n",
        "plt.title(\"Effect of noise channels on validation accuracy\")\n",
        "plt.xlabel(\"Epochs\")\n",
        "plt.ylabel(\"Accuracy\")\n",
        "plt.legend()"
      ]
    },
    {
      "cell_type": "markdown",
      "metadata": {
        "id": "D36dPQ-JDlkS"
      },
      "source": [
        "### The nature of generalization in deep learning"
      ]
    },
    {
      "cell_type": "markdown",
      "metadata": {
        "id": "cUwbEQMZDlkT"
      },
      "source": [
        "**Fitting a MNIST model with randomly shuffled labels**"
      ]
    },
    {
      "cell_type": "code",
      "execution_count": 4,
      "metadata": {
        "id": "9WtD6IXgDlkT",
        "outputId": "b2553459-cc5b-44e6-a535-2d467dda18e2",
        "colab": {
          "base_uri": "https://localhost:8080/"
        }
      },
      "outputs": [
        {
          "output_type": "stream",
          "name": "stdout",
          "text": [
            "Epoch 1/100\n",
            "375/375 [==============================] - 5s 12ms/step - loss: 2.3175 - accuracy: 0.1037 - val_loss: 2.3069 - val_accuracy: 0.1059\n",
            "Epoch 2/100\n",
            "375/375 [==============================] - 4s 12ms/step - loss: 2.2995 - accuracy: 0.1190 - val_loss: 2.3113 - val_accuracy: 0.1005\n",
            "Epoch 3/100\n",
            "375/375 [==============================] - 5s 14ms/step - loss: 2.2912 - accuracy: 0.1272 - val_loss: 2.3180 - val_accuracy: 0.1015\n",
            "Epoch 4/100\n",
            "375/375 [==============================] - 4s 11ms/step - loss: 2.2773 - accuracy: 0.1401 - val_loss: 2.3232 - val_accuracy: 0.1004\n",
            "Epoch 5/100\n",
            "375/375 [==============================] - 4s 11ms/step - loss: 2.2589 - accuracy: 0.1535 - val_loss: 2.3351 - val_accuracy: 0.1008\n",
            "Epoch 6/100\n",
            "375/375 [==============================] - 4s 11ms/step - loss: 2.2380 - accuracy: 0.1708 - val_loss: 2.3645 - val_accuracy: 0.1000\n",
            "Epoch 7/100\n",
            "375/375 [==============================] - 8s 21ms/step - loss: 2.2131 - accuracy: 0.1863 - val_loss: 2.3619 - val_accuracy: 0.1019\n",
            "Epoch 8/100\n",
            "375/375 [==============================] - 6s 17ms/step - loss: 2.1859 - accuracy: 0.1999 - val_loss: 2.3848 - val_accuracy: 0.1021\n",
            "Epoch 9/100\n",
            "375/375 [==============================] - 4s 11ms/step - loss: 2.1558 - accuracy: 0.2171 - val_loss: 2.3944 - val_accuracy: 0.1074\n",
            "Epoch 10/100\n",
            "375/375 [==============================] - 4s 11ms/step - loss: 2.1235 - accuracy: 0.2305 - val_loss: 2.4303 - val_accuracy: 0.1029\n",
            "Epoch 11/100\n",
            "375/375 [==============================] - 4s 11ms/step - loss: 2.0925 - accuracy: 0.2451 - val_loss: 2.4485 - val_accuracy: 0.1015\n",
            "Epoch 12/100\n",
            "375/375 [==============================] - 4s 12ms/step - loss: 2.0576 - accuracy: 0.2618 - val_loss: 2.4659 - val_accuracy: 0.1034\n",
            "Epoch 13/100\n",
            "375/375 [==============================] - 4s 11ms/step - loss: 2.0218 - accuracy: 0.2828 - val_loss: 2.4931 - val_accuracy: 0.1070\n",
            "Epoch 14/100\n",
            "375/375 [==============================] - 4s 11ms/step - loss: 1.9902 - accuracy: 0.2939 - val_loss: 2.5281 - val_accuracy: 0.1025\n",
            "Epoch 15/100\n",
            "375/375 [==============================] - 4s 11ms/step - loss: 1.9553 - accuracy: 0.3111 - val_loss: 2.5550 - val_accuracy: 0.1041\n",
            "Epoch 16/100\n",
            "375/375 [==============================] - 4s 12ms/step - loss: 1.9201 - accuracy: 0.3227 - val_loss: 2.5813 - val_accuracy: 0.1036\n",
            "Epoch 17/100\n",
            "375/375 [==============================] - 4s 12ms/step - loss: 1.8891 - accuracy: 0.3338 - val_loss: 2.6227 - val_accuracy: 0.1051\n",
            "Epoch 18/100\n",
            "375/375 [==============================] - 4s 12ms/step - loss: 1.8542 - accuracy: 0.3501 - val_loss: 2.6490 - val_accuracy: 0.1038\n",
            "Epoch 19/100\n",
            "375/375 [==============================] - 4s 12ms/step - loss: 1.8194 - accuracy: 0.3630 - val_loss: 2.6822 - val_accuracy: 0.1097\n",
            "Epoch 20/100\n",
            "375/375 [==============================] - 5s 12ms/step - loss: 1.7890 - accuracy: 0.3747 - val_loss: 2.7218 - val_accuracy: 0.1042\n",
            "Epoch 21/100\n",
            "375/375 [==============================] - 4s 12ms/step - loss: 1.7574 - accuracy: 0.3870 - val_loss: 2.7536 - val_accuracy: 0.1069\n",
            "Epoch 22/100\n",
            "375/375 [==============================] - 4s 12ms/step - loss: 1.7249 - accuracy: 0.3994 - val_loss: 2.8015 - val_accuracy: 0.1051\n",
            "Epoch 23/100\n",
            "375/375 [==============================] - 4s 12ms/step - loss: 1.6966 - accuracy: 0.4115 - val_loss: 2.8227 - val_accuracy: 0.1053\n",
            "Epoch 24/100\n",
            "375/375 [==============================] - 4s 12ms/step - loss: 1.6651 - accuracy: 0.4234 - val_loss: 2.8772 - val_accuracy: 0.1076\n",
            "Epoch 25/100\n",
            "375/375 [==============================] - 4s 12ms/step - loss: 1.6365 - accuracy: 0.4344 - val_loss: 2.9268 - val_accuracy: 0.1076\n",
            "Epoch 26/100\n",
            "375/375 [==============================] - 4s 12ms/step - loss: 1.6103 - accuracy: 0.4448 - val_loss: 2.9410 - val_accuracy: 0.1037\n",
            "Epoch 27/100\n",
            "375/375 [==============================] - 4s 12ms/step - loss: 1.5822 - accuracy: 0.4549 - val_loss: 3.0013 - val_accuracy: 0.1042\n",
            "Epoch 28/100\n",
            "375/375 [==============================] - 5s 13ms/step - loss: 1.5545 - accuracy: 0.4652 - val_loss: 3.0250 - val_accuracy: 0.1076\n",
            "Epoch 29/100\n",
            "375/375 [==============================] - 5s 13ms/step - loss: 1.5264 - accuracy: 0.4766 - val_loss: 3.0695 - val_accuracy: 0.1075\n",
            "Epoch 30/100\n",
            "375/375 [==============================] - 4s 12ms/step - loss: 1.5001 - accuracy: 0.4870 - val_loss: 3.1385 - val_accuracy: 0.1049\n",
            "Epoch 31/100\n",
            "375/375 [==============================] - 4s 12ms/step - loss: 1.4766 - accuracy: 0.4946 - val_loss: 3.1758 - val_accuracy: 0.1062\n",
            "Epoch 32/100\n",
            "375/375 [==============================] - 4s 12ms/step - loss: 1.4523 - accuracy: 0.5066 - val_loss: 3.1975 - val_accuracy: 0.1076\n",
            "Epoch 33/100\n",
            "375/375 [==============================] - 4s 12ms/step - loss: 1.4269 - accuracy: 0.5123 - val_loss: 3.2618 - val_accuracy: 0.1032\n",
            "Epoch 34/100\n",
            "375/375 [==============================] - 5s 12ms/step - loss: 1.4032 - accuracy: 0.5227 - val_loss: 3.3077 - val_accuracy: 0.1058\n",
            "Epoch 35/100\n",
            "375/375 [==============================] - 4s 12ms/step - loss: 1.3814 - accuracy: 0.5291 - val_loss: 3.3511 - val_accuracy: 0.1067\n",
            "Epoch 36/100\n",
            "375/375 [==============================] - 4s 12ms/step - loss: 1.3582 - accuracy: 0.5384 - val_loss: 3.4049 - val_accuracy: 0.1047\n",
            "Epoch 37/100\n",
            "375/375 [==============================] - 4s 12ms/step - loss: 1.3361 - accuracy: 0.5449 - val_loss: 3.4471 - val_accuracy: 0.1078\n",
            "Epoch 38/100\n",
            "375/375 [==============================] - 4s 12ms/step - loss: 1.3120 - accuracy: 0.5565 - val_loss: 3.4896 - val_accuracy: 0.1073\n",
            "Epoch 39/100\n",
            "375/375 [==============================] - 5s 15ms/step - loss: 1.2939 - accuracy: 0.5629 - val_loss: 3.5450 - val_accuracy: 0.1046\n",
            "Epoch 40/100\n",
            "375/375 [==============================] - 4s 12ms/step - loss: 1.2749 - accuracy: 0.5657 - val_loss: 3.5702 - val_accuracy: 0.1036\n",
            "Epoch 41/100\n",
            "375/375 [==============================] - 4s 12ms/step - loss: 1.2497 - accuracy: 0.5795 - val_loss: 3.6321 - val_accuracy: 0.1032\n",
            "Epoch 42/100\n",
            "375/375 [==============================] - 4s 12ms/step - loss: 1.2327 - accuracy: 0.5831 - val_loss: 3.6882 - val_accuracy: 0.1021\n",
            "Epoch 43/100\n",
            "375/375 [==============================] - 5s 12ms/step - loss: 1.2151 - accuracy: 0.5899 - val_loss: 3.7597 - val_accuracy: 0.1047\n",
            "Epoch 44/100\n",
            "375/375 [==============================] - 4s 12ms/step - loss: 1.1965 - accuracy: 0.5989 - val_loss: 3.7858 - val_accuracy: 0.1030\n",
            "Epoch 45/100\n",
            "375/375 [==============================] - 4s 12ms/step - loss: 1.1743 - accuracy: 0.6050 - val_loss: 3.8218 - val_accuracy: 0.1036\n",
            "Epoch 46/100\n",
            "375/375 [==============================] - 4s 12ms/step - loss: 1.1559 - accuracy: 0.6114 - val_loss: 3.8683 - val_accuracy: 0.1055\n",
            "Epoch 47/100\n",
            "375/375 [==============================] - 4s 12ms/step - loss: 1.1399 - accuracy: 0.6164 - val_loss: 3.9418 - val_accuracy: 0.1060\n",
            "Epoch 48/100\n",
            "375/375 [==============================] - 5s 13ms/step - loss: 1.1215 - accuracy: 0.6232 - val_loss: 3.9768 - val_accuracy: 0.1045\n",
            "Epoch 49/100\n",
            "375/375 [==============================] - 4s 12ms/step - loss: 1.1040 - accuracy: 0.6291 - val_loss: 4.0088 - val_accuracy: 0.1062\n",
            "Epoch 50/100\n",
            "375/375 [==============================] - 4s 12ms/step - loss: 1.0873 - accuracy: 0.6346 - val_loss: 4.0895 - val_accuracy: 0.1004\n",
            "Epoch 51/100\n",
            "375/375 [==============================] - 4s 12ms/step - loss: 1.0724 - accuracy: 0.6410 - val_loss: 4.1374 - val_accuracy: 0.1048\n",
            "Epoch 52/100\n",
            "375/375 [==============================] - 4s 12ms/step - loss: 1.0554 - accuracy: 0.6449 - val_loss: 4.1806 - val_accuracy: 0.1023\n",
            "Epoch 53/100\n",
            "375/375 [==============================] - 4s 12ms/step - loss: 1.0401 - accuracy: 0.6515 - val_loss: 4.2688 - val_accuracy: 0.1077\n",
            "Epoch 54/100\n",
            "375/375 [==============================] - 4s 11ms/step - loss: 1.0239 - accuracy: 0.6600 - val_loss: 4.2951 - val_accuracy: 0.1037\n",
            "Epoch 55/100\n",
            "375/375 [==============================] - 4s 12ms/step - loss: 1.0092 - accuracy: 0.6633 - val_loss: 4.3323 - val_accuracy: 0.1036\n",
            "Epoch 56/100\n",
            "375/375 [==============================] - 4s 12ms/step - loss: 0.9930 - accuracy: 0.6692 - val_loss: 4.4092 - val_accuracy: 0.1018\n",
            "Epoch 57/100\n",
            "375/375 [==============================] - 4s 12ms/step - loss: 0.9795 - accuracy: 0.6755 - val_loss: 4.4740 - val_accuracy: 0.1026\n",
            "Epoch 58/100\n",
            "375/375 [==============================] - 4s 12ms/step - loss: 0.9638 - accuracy: 0.6797 - val_loss: 4.5547 - val_accuracy: 0.1052\n",
            "Epoch 59/100\n",
            "375/375 [==============================] - 4s 12ms/step - loss: 0.9467 - accuracy: 0.6850 - val_loss: 4.5445 - val_accuracy: 0.1072\n",
            "Epoch 60/100\n",
            "375/375 [==============================] - 4s 12ms/step - loss: 0.9355 - accuracy: 0.6874 - val_loss: 4.6582 - val_accuracy: 0.1044\n",
            "Epoch 61/100\n",
            "375/375 [==============================] - 4s 12ms/step - loss: 0.9192 - accuracy: 0.6969 - val_loss: 4.6828 - val_accuracy: 0.1048\n",
            "Epoch 62/100\n",
            "375/375 [==============================] - 5s 13ms/step - loss: 0.9073 - accuracy: 0.6988 - val_loss: 4.7288 - val_accuracy: 0.1033\n",
            "Epoch 63/100\n",
            "375/375 [==============================] - 4s 12ms/step - loss: 0.8957 - accuracy: 0.7037 - val_loss: 4.8373 - val_accuracy: 0.1053\n",
            "Epoch 64/100\n",
            "375/375 [==============================] - 5s 13ms/step - loss: 0.8797 - accuracy: 0.7087 - val_loss: 4.8535 - val_accuracy: 0.1081\n",
            "Epoch 65/100\n",
            "375/375 [==============================] - 4s 12ms/step - loss: 0.8683 - accuracy: 0.7120 - val_loss: 4.9281 - val_accuracy: 0.1054\n",
            "Epoch 66/100\n",
            "375/375 [==============================] - 4s 12ms/step - loss: 0.8558 - accuracy: 0.7171 - val_loss: 4.9505 - val_accuracy: 0.1072\n",
            "Epoch 67/100\n",
            "375/375 [==============================] - 4s 11ms/step - loss: 0.8435 - accuracy: 0.7207 - val_loss: 4.9942 - val_accuracy: 0.1041\n",
            "Epoch 68/100\n",
            "375/375 [==============================] - 4s 11ms/step - loss: 0.8320 - accuracy: 0.7281 - val_loss: 5.0732 - val_accuracy: 0.1061\n",
            "Epoch 69/100\n",
            "375/375 [==============================] - 4s 11ms/step - loss: 0.8189 - accuracy: 0.7316 - val_loss: 5.1761 - val_accuracy: 0.1015\n",
            "Epoch 70/100\n",
            "375/375 [==============================] - 4s 12ms/step - loss: 0.8067 - accuracy: 0.7346 - val_loss: 5.2098 - val_accuracy: 0.1030\n",
            "Epoch 71/100\n",
            "375/375 [==============================] - 4s 12ms/step - loss: 0.7961 - accuracy: 0.7401 - val_loss: 5.2762 - val_accuracy: 0.1053\n",
            "Epoch 72/100\n",
            "375/375 [==============================] - 4s 12ms/step - loss: 0.7838 - accuracy: 0.7427 - val_loss: 5.3495 - val_accuracy: 0.1005\n",
            "Epoch 73/100\n",
            "375/375 [==============================] - 4s 12ms/step - loss: 0.7745 - accuracy: 0.7454 - val_loss: 5.3915 - val_accuracy: 0.1016\n",
            "Epoch 74/100\n",
            "375/375 [==============================] - 4s 12ms/step - loss: 0.7608 - accuracy: 0.7489 - val_loss: 5.4818 - val_accuracy: 0.1057\n",
            "Epoch 75/100\n",
            "375/375 [==============================] - 4s 11ms/step - loss: 0.7507 - accuracy: 0.7546 - val_loss: 5.5039 - val_accuracy: 0.1008\n",
            "Epoch 76/100\n",
            "375/375 [==============================] - 4s 12ms/step - loss: 0.7419 - accuracy: 0.7564 - val_loss: 5.5737 - val_accuracy: 0.1031\n",
            "Epoch 77/100\n",
            "375/375 [==============================] - 4s 12ms/step - loss: 0.7280 - accuracy: 0.7637 - val_loss: 5.6462 - val_accuracy: 0.1060\n",
            "Epoch 78/100\n",
            "375/375 [==============================] - 4s 11ms/step - loss: 0.7183 - accuracy: 0.7653 - val_loss: 5.7140 - val_accuracy: 0.1033\n",
            "Epoch 79/100\n",
            "375/375 [==============================] - 4s 12ms/step - loss: 0.7108 - accuracy: 0.7683 - val_loss: 5.7722 - val_accuracy: 0.1047\n",
            "Epoch 80/100\n",
            "375/375 [==============================] - 5s 15ms/step - loss: 0.6991 - accuracy: 0.7711 - val_loss: 5.8240 - val_accuracy: 0.1052\n",
            "Epoch 81/100\n",
            "375/375 [==============================] - 4s 12ms/step - loss: 0.6902 - accuracy: 0.7727 - val_loss: 5.9060 - val_accuracy: 0.1045\n",
            "Epoch 82/100\n",
            "375/375 [==============================] - 4s 12ms/step - loss: 0.6794 - accuracy: 0.7804 - val_loss: 5.9780 - val_accuracy: 0.1057\n",
            "Epoch 83/100\n",
            "375/375 [==============================] - 5s 12ms/step - loss: 0.6706 - accuracy: 0.7817 - val_loss: 5.9987 - val_accuracy: 0.1035\n",
            "Epoch 84/100\n",
            "375/375 [==============================] - 5s 12ms/step - loss: 0.6636 - accuracy: 0.7834 - val_loss: 6.0584 - val_accuracy: 0.1049\n",
            "Epoch 85/100\n",
            "375/375 [==============================] - 5s 12ms/step - loss: 0.6525 - accuracy: 0.7868 - val_loss: 6.1018 - val_accuracy: 0.1056\n",
            "Epoch 86/100\n",
            "375/375 [==============================] - 5s 12ms/step - loss: 0.6435 - accuracy: 0.7911 - val_loss: 6.1892 - val_accuracy: 0.1080\n",
            "Epoch 87/100\n",
            "375/375 [==============================] - 5s 12ms/step - loss: 0.6344 - accuracy: 0.7933 - val_loss: 6.2641 - val_accuracy: 0.1049\n",
            "Epoch 88/100\n",
            "375/375 [==============================] - 5s 12ms/step - loss: 0.6252 - accuracy: 0.7968 - val_loss: 6.3039 - val_accuracy: 0.1038\n",
            "Epoch 89/100\n",
            "375/375 [==============================] - 5s 12ms/step - loss: 0.6163 - accuracy: 0.8007 - val_loss: 6.4107 - val_accuracy: 0.1038\n",
            "Epoch 90/100\n",
            "375/375 [==============================] - 5s 12ms/step - loss: 0.6077 - accuracy: 0.8039 - val_loss: 6.4163 - val_accuracy: 0.1055\n",
            "Epoch 91/100\n",
            "375/375 [==============================] - 4s 12ms/step - loss: 0.6016 - accuracy: 0.8057 - val_loss: 6.5408 - val_accuracy: 0.1026\n",
            "Epoch 92/100\n",
            "375/375 [==============================] - 4s 12ms/step - loss: 0.5932 - accuracy: 0.8088 - val_loss: 6.5662 - val_accuracy: 0.1077\n",
            "Epoch 93/100\n",
            "375/375 [==============================] - 5s 12ms/step - loss: 0.5848 - accuracy: 0.8119 - val_loss: 6.6932 - val_accuracy: 0.1072\n",
            "Epoch 94/100\n",
            "375/375 [==============================] - 4s 12ms/step - loss: 0.5773 - accuracy: 0.8142 - val_loss: 6.7077 - val_accuracy: 0.1046\n",
            "Epoch 95/100\n",
            "375/375 [==============================] - 5s 12ms/step - loss: 0.5677 - accuracy: 0.8150 - val_loss: 6.7765 - val_accuracy: 0.1047\n",
            "Epoch 96/100\n",
            "375/375 [==============================] - 4s 12ms/step - loss: 0.5609 - accuracy: 0.8190 - val_loss: 6.8429 - val_accuracy: 0.1017\n",
            "Epoch 97/100\n",
            "375/375 [==============================] - 5s 12ms/step - loss: 0.5536 - accuracy: 0.8220 - val_loss: 6.9077 - val_accuracy: 0.1052\n",
            "Epoch 98/100\n",
            "375/375 [==============================] - 5s 13ms/step - loss: 0.5441 - accuracy: 0.8248 - val_loss: 6.9670 - val_accuracy: 0.1064\n",
            "Epoch 99/100\n",
            "375/375 [==============================] - 5s 13ms/step - loss: 0.5382 - accuracy: 0.8269 - val_loss: 7.0394 - val_accuracy: 0.1052\n",
            "Epoch 100/100\n",
            "375/375 [==============================] - 5s 12ms/step - loss: 0.5308 - accuracy: 0.8296 - val_loss: 7.1215 - val_accuracy: 0.1028\n"
          ]
        },
        {
          "output_type": "execute_result",
          "data": {
            "text/plain": [
              "<keras.callbacks.History at 0x7f4b22d44bd0>"
            ]
          },
          "metadata": {},
          "execution_count": 4
        }
      ],
      "source": [
        "(train_images, train_labels), _ = mnist.load_data()\n",
        "train_images = train_images.reshape((60000, 28 * 28))\n",
        "train_images = train_images.astype(\"float32\") / 255\n",
        "\n",
        "random_train_labels = train_labels[:]\n",
        "np.random.shuffle(random_train_labels)\n",
        "\n",
        "model = keras.Sequential([\n",
        "    layers.Dense(512, activation=\"relu\"),\n",
        "    layers.Dense(10, activation=\"softmax\")\n",
        "])\n",
        "model.compile(optimizer=\"rmsprop\",\n",
        "              loss=\"sparse_categorical_crossentropy\",\n",
        "              metrics=[\"accuracy\"])\n",
        "model.fit(train_images, random_train_labels,\n",
        "          epochs=100,\n",
        "          batch_size=128,\n",
        "          validation_split=0.2)"
      ]
    },
    {
      "cell_type": "markdown",
      "metadata": {
        "id": "oo9u4zhRDlkT"
      },
      "source": [
        "#### The manifold hypothesis"
      ]
    },
    {
      "cell_type": "markdown",
      "metadata": {
        "id": "J4YhdfgUDlkU"
      },
      "source": [
        "#### Interpolation as a source of generalization"
      ]
    },
    {
      "cell_type": "markdown",
      "metadata": {
        "id": "IWI7Q_zmDlkU"
      },
      "source": [
        "#### Why deep learning works"
      ]
    },
    {
      "cell_type": "markdown",
      "metadata": {
        "id": "2dV_SI9rDlkU"
      },
      "source": [
        "#### Training data is paramount"
      ]
    },
    {
      "cell_type": "markdown",
      "metadata": {
        "id": "treTQT0DDlkV"
      },
      "source": [
        "## Evaluating machine-learning models"
      ]
    },
    {
      "cell_type": "markdown",
      "metadata": {
        "id": "du1WimEUDlkV"
      },
      "source": [
        "### Training, validation, and test sets"
      ]
    },
    {
      "cell_type": "markdown",
      "metadata": {
        "id": "ueobWuA3DlkV"
      },
      "source": [
        "#### Simple hold-out validation"
      ]
    },
    {
      "cell_type": "markdown",
      "metadata": {
        "id": "X7oC7y3uDlkW"
      },
      "source": [
        "#### K-fold validation"
      ]
    },
    {
      "cell_type": "markdown",
      "metadata": {
        "id": "IhTVX6CeDlkW"
      },
      "source": [
        "#### Iterated K-fold validation with shuffling"
      ]
    },
    {
      "cell_type": "markdown",
      "metadata": {
        "id": "mt0aVpBnDlkW"
      },
      "source": [
        "### Beating a common-sense baseline"
      ]
    },
    {
      "cell_type": "markdown",
      "metadata": {
        "id": "2LOtKTo7DlkW"
      },
      "source": [
        "### Things to keep in mind about model evaluation"
      ]
    },
    {
      "cell_type": "markdown",
      "metadata": {
        "id": "OFrcBdipDlkW"
      },
      "source": [
        "## Improving model fit"
      ]
    },
    {
      "cell_type": "markdown",
      "metadata": {
        "id": "UjsqprddDlkW"
      },
      "source": [
        "### Tuning key gradient descent parameters"
      ]
    },
    {
      "cell_type": "markdown",
      "metadata": {
        "id": "U195mFmFDlkX"
      },
      "source": [
        "**Training a MNIST model with an incorrectly high learning rate**"
      ]
    },
    {
      "cell_type": "code",
      "execution_count": 5,
      "metadata": {
        "id": "OGytZJcTDlkX",
        "outputId": "4b0f9996-a620-42c6-fc72-ada5259b652f",
        "colab": {
          "base_uri": "https://localhost:8080/"
        }
      },
      "outputs": [
        {
          "output_type": "stream",
          "name": "stdout",
          "text": [
            "Epoch 1/10\n",
            "375/375 [==============================] - 5s 13ms/step - loss: 949.1863 - accuracy: 0.3452 - val_loss: 2.9513 - val_accuracy: 0.2405\n",
            "Epoch 2/10\n",
            "375/375 [==============================] - 5s 12ms/step - loss: 5.6808 - accuracy: 0.2436 - val_loss: 2.7176 - val_accuracy: 0.2608\n",
            "Epoch 3/10\n",
            "375/375 [==============================] - 4s 12ms/step - loss: 2.9254 - accuracy: 0.2518 - val_loss: 2.2290 - val_accuracy: 0.3201\n",
            "Epoch 4/10\n",
            "375/375 [==============================] - 5s 13ms/step - loss: 2.7599 - accuracy: 0.2474 - val_loss: 2.5460 - val_accuracy: 0.1790\n",
            "Epoch 5/10\n",
            "375/375 [==============================] - 5s 12ms/step - loss: 2.7171 - accuracy: 0.2432 - val_loss: 2.5673 - val_accuracy: 0.2818\n",
            "Epoch 6/10\n",
            "375/375 [==============================] - 4s 12ms/step - loss: 2.5294 - accuracy: 0.2598 - val_loss: 2.0989 - val_accuracy: 0.2186\n",
            "Epoch 7/10\n",
            "375/375 [==============================] - 4s 12ms/step - loss: 2.3514 - accuracy: 0.2143 - val_loss: 2.1869 - val_accuracy: 0.2373\n",
            "Epoch 8/10\n",
            "375/375 [==============================] - 4s 12ms/step - loss: 2.4173 - accuracy: 0.2513 - val_loss: 2.0466 - val_accuracy: 0.2508\n",
            "Epoch 9/10\n",
            "375/375 [==============================] - 4s 12ms/step - loss: 2.4112 - accuracy: 0.2351 - val_loss: 2.1963 - val_accuracy: 0.2853\n",
            "Epoch 10/10\n",
            "375/375 [==============================] - 4s 12ms/step - loss: 2.6462 - accuracy: 0.2605 - val_loss: 2.0545 - val_accuracy: 0.2463\n"
          ]
        },
        {
          "output_type": "execute_result",
          "data": {
            "text/plain": [
              "<keras.callbacks.History at 0x7f4b1dbf85d0>"
            ]
          },
          "metadata": {},
          "execution_count": 5
        }
      ],
      "source": [
        "(train_images, train_labels), _ = mnist.load_data()\n",
        "train_images = train_images.reshape((60000, 28 * 28))\n",
        "train_images = train_images.astype(\"float32\") / 255\n",
        "\n",
        "model = keras.Sequential([\n",
        "    layers.Dense(512, activation=\"relu\"),\n",
        "    layers.Dense(10, activation=\"softmax\")\n",
        "])\n",
        "model.compile(optimizer=keras.optimizers.RMSprop(1.),\n",
        "              loss=\"sparse_categorical_crossentropy\",\n",
        "              metrics=[\"accuracy\"])\n",
        "model.fit(train_images, train_labels,\n",
        "          epochs=10,\n",
        "          batch_size=128,\n",
        "          validation_split=0.2)"
      ]
    },
    {
      "cell_type": "markdown",
      "metadata": {
        "id": "lZq5rtdMDlkX"
      },
      "source": [
        "**The same model with a more appropriate learning rate**"
      ]
    },
    {
      "cell_type": "code",
      "execution_count": 6,
      "metadata": {
        "id": "82dWy6HwDlkX",
        "outputId": "748acb85-c575-452e-ab67-87dce0b93d7b",
        "colab": {
          "base_uri": "https://localhost:8080/"
        }
      },
      "outputs": [
        {
          "output_type": "stream",
          "name": "stdout",
          "text": [
            "Epoch 1/10\n",
            "375/375 [==============================] - 5s 12ms/step - loss: 0.3360 - accuracy: 0.9144 - val_loss: 0.1461 - val_accuracy: 0.9615\n",
            "Epoch 2/10\n",
            "375/375 [==============================] - 4s 12ms/step - loss: 0.1444 - accuracy: 0.9634 - val_loss: 0.1892 - val_accuracy: 0.9582\n",
            "Epoch 3/10\n",
            "375/375 [==============================] - 4s 12ms/step - loss: 0.1203 - accuracy: 0.9725 - val_loss: 0.2098 - val_accuracy: 0.9622\n",
            "Epoch 4/10\n",
            "375/375 [==============================] - 4s 12ms/step - loss: 0.1039 - accuracy: 0.9774 - val_loss: 0.2014 - val_accuracy: 0.9691\n",
            "Epoch 5/10\n",
            "375/375 [==============================] - 4s 12ms/step - loss: 0.0975 - accuracy: 0.9803 - val_loss: 0.2008 - val_accuracy: 0.9697\n",
            "Epoch 6/10\n",
            "375/375 [==============================] - 4s 12ms/step - loss: 0.0772 - accuracy: 0.9837 - val_loss: 0.2086 - val_accuracy: 0.9727\n",
            "Epoch 7/10\n",
            "375/375 [==============================] - 4s 12ms/step - loss: 0.0764 - accuracy: 0.9864 - val_loss: 0.2826 - val_accuracy: 0.9687\n",
            "Epoch 8/10\n",
            "375/375 [==============================] - 4s 12ms/step - loss: 0.0693 - accuracy: 0.9874 - val_loss: 0.2930 - val_accuracy: 0.9709\n",
            "Epoch 9/10\n",
            "375/375 [==============================] - 4s 12ms/step - loss: 0.0686 - accuracy: 0.9887 - val_loss: 0.3073 - val_accuracy: 0.9722\n",
            "Epoch 10/10\n",
            "375/375 [==============================] - 5s 14ms/step - loss: 0.0607 - accuracy: 0.9898 - val_loss: 0.3333 - val_accuracy: 0.9736\n"
          ]
        },
        {
          "output_type": "execute_result",
          "data": {
            "text/plain": [
              "<keras.callbacks.History at 0x7f4b233c8690>"
            ]
          },
          "metadata": {},
          "execution_count": 6
        }
      ],
      "source": [
        "model = keras.Sequential([\n",
        "    layers.Dense(512, activation=\"relu\"),\n",
        "    layers.Dense(10, activation=\"softmax\")\n",
        "])\n",
        "model.compile(optimizer=keras.optimizers.RMSprop(1e-2),\n",
        "              loss=\"sparse_categorical_crossentropy\",\n",
        "              metrics=[\"accuracy\"])\n",
        "model.fit(train_images, train_labels,\n",
        "          epochs=10,\n",
        "          batch_size=128,\n",
        "          validation_split=0.2)"
      ]
    },
    {
      "cell_type": "markdown",
      "metadata": {
        "id": "9G1hnnfWDlkY"
      },
      "source": [
        "### Leveraging better architecture priors"
      ]
    },
    {
      "cell_type": "markdown",
      "metadata": {
        "id": "jVgfrDcFDlkY"
      },
      "source": [
        "### Increasing model capacity"
      ]
    },
    {
      "cell_type": "markdown",
      "metadata": {
        "id": "jZ78pHq5DlkY"
      },
      "source": [
        "**A simple logistic regression on MNIST**"
      ]
    },
    {
      "cell_type": "code",
      "execution_count": 7,
      "metadata": {
        "id": "eLtxXDKzDlkY",
        "outputId": "2f9429e7-818e-4133-8656-a8528506d092",
        "colab": {
          "base_uri": "https://localhost:8080/"
        }
      },
      "outputs": [
        {
          "output_type": "stream",
          "name": "stdout",
          "text": [
            "Epoch 1/20\n",
            "375/375 [==============================] - 2s 4ms/step - loss: 0.6703 - accuracy: 0.8370 - val_loss: 0.3571 - val_accuracy: 0.9043\n",
            "Epoch 2/20\n",
            "375/375 [==============================] - 1s 3ms/step - loss: 0.3512 - accuracy: 0.9044 - val_loss: 0.3077 - val_accuracy: 0.9149\n",
            "Epoch 3/20\n",
            "375/375 [==============================] - 1s 3ms/step - loss: 0.3158 - accuracy: 0.9123 - val_loss: 0.2895 - val_accuracy: 0.9198\n",
            "Epoch 4/20\n",
            "375/375 [==============================] - 1s 4ms/step - loss: 0.2993 - accuracy: 0.9163 - val_loss: 0.2804 - val_accuracy: 0.9227\n",
            "Epoch 5/20\n",
            "375/375 [==============================] - 1s 3ms/step - loss: 0.2896 - accuracy: 0.9193 - val_loss: 0.2750 - val_accuracy: 0.9253\n",
            "Epoch 6/20\n",
            "375/375 [==============================] - 1s 3ms/step - loss: 0.2829 - accuracy: 0.9200 - val_loss: 0.2719 - val_accuracy: 0.9243\n",
            "Epoch 7/20\n",
            "375/375 [==============================] - 1s 3ms/step - loss: 0.2781 - accuracy: 0.9224 - val_loss: 0.2693 - val_accuracy: 0.9265\n",
            "Epoch 8/20\n",
            "375/375 [==============================] - 1s 3ms/step - loss: 0.2745 - accuracy: 0.9232 - val_loss: 0.2673 - val_accuracy: 0.9277\n",
            "Epoch 9/20\n",
            "375/375 [==============================] - 1s 3ms/step - loss: 0.2712 - accuracy: 0.9253 - val_loss: 0.2646 - val_accuracy: 0.9289\n",
            "Epoch 10/20\n",
            "375/375 [==============================] - 1s 3ms/step - loss: 0.2686 - accuracy: 0.9252 - val_loss: 0.2665 - val_accuracy: 0.9283\n",
            "Epoch 11/20\n",
            "375/375 [==============================] - 1s 3ms/step - loss: 0.2666 - accuracy: 0.9259 - val_loss: 0.2636 - val_accuracy: 0.9288\n",
            "Epoch 12/20\n",
            "375/375 [==============================] - 1s 3ms/step - loss: 0.2646 - accuracy: 0.9263 - val_loss: 0.2643 - val_accuracy: 0.9297\n",
            "Epoch 13/20\n",
            "375/375 [==============================] - 1s 3ms/step - loss: 0.2627 - accuracy: 0.9273 - val_loss: 0.2622 - val_accuracy: 0.9303\n",
            "Epoch 14/20\n",
            "375/375 [==============================] - 1s 3ms/step - loss: 0.2615 - accuracy: 0.9287 - val_loss: 0.2642 - val_accuracy: 0.9286\n",
            "Epoch 15/20\n",
            "375/375 [==============================] - 1s 3ms/step - loss: 0.2602 - accuracy: 0.9278 - val_loss: 0.2620 - val_accuracy: 0.9296\n",
            "Epoch 16/20\n",
            "375/375 [==============================] - 1s 3ms/step - loss: 0.2590 - accuracy: 0.9289 - val_loss: 0.2611 - val_accuracy: 0.9308\n",
            "Epoch 17/20\n",
            "375/375 [==============================] - 1s 3ms/step - loss: 0.2581 - accuracy: 0.9290 - val_loss: 0.2617 - val_accuracy: 0.9298\n",
            "Epoch 18/20\n",
            "375/375 [==============================] - 1s 3ms/step - loss: 0.2573 - accuracy: 0.9293 - val_loss: 0.2605 - val_accuracy: 0.9301\n",
            "Epoch 19/20\n",
            "375/375 [==============================] - 1s 3ms/step - loss: 0.2562 - accuracy: 0.9295 - val_loss: 0.2624 - val_accuracy: 0.9300\n",
            "Epoch 20/20\n",
            "375/375 [==============================] - 1s 3ms/step - loss: 0.2555 - accuracy: 0.9299 - val_loss: 0.2616 - val_accuracy: 0.9308\n"
          ]
        }
      ],
      "source": [
        "model = keras.Sequential([layers.Dense(10, activation=\"softmax\")])\n",
        "model.compile(optimizer=\"rmsprop\",\n",
        "              loss=\"sparse_categorical_crossentropy\",\n",
        "              metrics=[\"accuracy\"])\n",
        "history_small_model = model.fit(\n",
        "    train_images, train_labels,\n",
        "    epochs=20,\n",
        "    batch_size=128,\n",
        "    validation_split=0.2)"
      ]
    },
    {
      "cell_type": "code",
      "execution_count": 8,
      "metadata": {
        "id": "UMaesENDDlkY",
        "outputId": "6ab06a63-6261-4fee-a767-6aab87b52ad8",
        "colab": {
          "base_uri": "https://localhost:8080/",
          "height": 313
        }
      },
      "outputs": [
        {
          "output_type": "execute_result",
          "data": {
            "text/plain": [
              "<matplotlib.legend.Legend at 0x7f4b1f10c150>"
            ]
          },
          "metadata": {},
          "execution_count": 8
        },
        {
          "output_type": "display_data",
          "data": {
            "text/plain": [
              "<Figure size 432x288 with 1 Axes>"
            ],
            "image/png": "[encoded data removed]"
          },
          "metadata": {
            "needs_background": "light"
          }
        }
      ],
      "source": [
        "import matplotlib.pyplot as plt\n",
        "val_loss = history_small_model.history[\"val_loss\"]\n",
        "epochs = range(1, 21)\n",
        "plt.plot(epochs, val_loss, \"b--\",\n",
        "         label=\"Validation loss\")\n",
        "plt.title(\"Effect of insufficient model capacity on validation loss\")\n",
        "plt.xlabel(\"Epochs\")\n",
        "plt.ylabel(\"Loss\")\n",
        "plt.legend()"
      ]
    },
    {
      "cell_type": "code",
      "execution_count": 9,
      "metadata": {
        "id": "9ZJTWe8nDlkZ",
        "outputId": "af372331-3363-4efe-e90f-e2a2e24311bc",
        "colab": {
          "base_uri": "https://localhost:8080/"
        }
      },
      "outputs": [
        {
          "output_type": "stream",
          "name": "stdout",
          "text": [
            "Epoch 1/20\n",
            "375/375 [==============================] - 3s 6ms/step - loss: 0.3594 - accuracy: 0.8976 - val_loss: 0.1775 - val_accuracy: 0.9498\n",
            "Epoch 2/20\n",
            "375/375 [==============================] - 2s 6ms/step - loss: 0.1573 - accuracy: 0.9532 - val_loss: 0.1441 - val_accuracy: 0.9569\n",
            "Epoch 3/20\n",
            "375/375 [==============================] - 2s 5ms/step - loss: 0.1106 - accuracy: 0.9667 - val_loss: 0.1364 - val_accuracy: 0.9593\n",
            "Epoch 4/20\n",
            "375/375 [==============================] - 2s 5ms/step - loss: 0.0846 - accuracy: 0.9747 - val_loss: 0.0945 - val_accuracy: 0.9721\n",
            "Epoch 5/20\n",
            "375/375 [==============================] - 2s 6ms/step - loss: 0.0686 - accuracy: 0.9797 - val_loss: 0.0952 - val_accuracy: 0.9724\n",
            "Epoch 6/20\n",
            "375/375 [==============================] - 2s 6ms/step - loss: 0.0555 - accuracy: 0.9833 - val_loss: 0.0926 - val_accuracy: 0.9731\n",
            "Epoch 7/20\n",
            "375/375 [==============================] - 2s 6ms/step - loss: 0.0463 - accuracy: 0.9858 - val_loss: 0.0903 - val_accuracy: 0.9751\n",
            "Epoch 8/20\n",
            "375/375 [==============================] - 2s 6ms/step - loss: 0.0385 - accuracy: 0.9880 - val_loss: 0.1031 - val_accuracy: 0.9717\n",
            "Epoch 9/20\n",
            "375/375 [==============================] - 2s 6ms/step - loss: 0.0328 - accuracy: 0.9902 - val_loss: 0.1041 - val_accuracy: 0.9710\n",
            "Epoch 10/20\n",
            "375/375 [==============================] - 2s 5ms/step - loss: 0.0276 - accuracy: 0.9913 - val_loss: 0.1014 - val_accuracy: 0.9747\n",
            "Epoch 11/20\n",
            "375/375 [==============================] - 2s 6ms/step - loss: 0.0231 - accuracy: 0.9927 - val_loss: 0.0985 - val_accuracy: 0.9753\n",
            "Epoch 12/20\n",
            "375/375 [==============================] - 2s 6ms/step - loss: 0.0206 - accuracy: 0.9935 - val_loss: 0.0991 - val_accuracy: 0.9748\n",
            "Epoch 13/20\n",
            "375/375 [==============================] - 2s 5ms/step - loss: 0.0169 - accuracy: 0.9949 - val_loss: 0.1037 - val_accuracy: 0.9762\n",
            "Epoch 14/20\n",
            "375/375 [==============================] - 2s 6ms/step - loss: 0.0145 - accuracy: 0.9955 - val_loss: 0.1080 - val_accuracy: 0.9766\n",
            "Epoch 15/20\n",
            "375/375 [==============================] - 2s 6ms/step - loss: 0.0120 - accuracy: 0.9960 - val_loss: 0.1114 - val_accuracy: 0.9762\n",
            "Epoch 16/20\n",
            "375/375 [==============================] - 2s 5ms/step - loss: 0.0108 - accuracy: 0.9966 - val_loss: 0.1095 - val_accuracy: 0.9772\n",
            "Epoch 17/20\n",
            "375/375 [==============================] - 2s 6ms/step - loss: 0.0085 - accuracy: 0.9974 - val_loss: 0.1240 - val_accuracy: 0.9763\n",
            "Epoch 18/20\n",
            "375/375 [==============================] - 2s 6ms/step - loss: 0.0082 - accuracy: 0.9975 - val_loss: 0.1170 - val_accuracy: 0.9768\n",
            "Epoch 19/20\n",
            "375/375 [==============================] - 2s 5ms/step - loss: 0.0071 - accuracy: 0.9976 - val_loss: 0.1299 - val_accuracy: 0.9758\n",
            "Epoch 20/20\n",
            "375/375 [==============================] - 2s 6ms/step - loss: 0.0057 - accuracy: 0.9982 - val_loss: 0.1471 - val_accuracy: 0.9751\n"
          ]
        }
      ],
      "source": [
        "model = keras.Sequential([\n",
        "    layers.Dense(96, activation=\"relu\"),\n",
        "    layers.Dense(96, activation=\"relu\"),\n",
        "    layers.Dense(10, activation=\"softmax\"),\n",
        "])\n",
        "model.compile(optimizer=\"rmsprop\",\n",
        "              loss=\"sparse_categorical_crossentropy\",\n",
        "              metrics=[\"accuracy\"])\n",
        "history_large_model = model.fit(\n",
        "    train_images, train_labels,\n",
        "    epochs=20,\n",
        "    batch_size=128,\n",
        "    validation_split=0.2)"
      ]
    },
    {
      "cell_type": "markdown",
      "metadata": {
        "id": "la6qbdJCDlkZ"
      },
      "source": [
        "## Improving generalization"
      ]
    },
    {
      "cell_type": "markdown",
      "metadata": {
        "id": "cIJh7H3-DlkZ"
      },
      "source": [
        "### Dataset curation"
      ]
    },
    {
      "cell_type": "markdown",
      "metadata": {
        "id": "08shQKOLDlkZ"
      },
      "source": [
        "### Feature engineering"
      ]
    },
    {
      "cell_type": "markdown",
      "metadata": {
        "id": "fYxsqtSdDlkZ"
      },
      "source": [
        "### Using early stopping"
      ]
    },
    {
      "cell_type": "markdown",
      "metadata": {
        "id": "mzGliIyfDlkZ"
      },
      "source": [
        "### Regularizing your model"
      ]
    },
    {
      "cell_type": "markdown",
      "metadata": {
        "id": "xz7LknxQDlka"
      },
      "source": [
        "#### Reducing the network's size"
      ]
    },
    {
      "cell_type": "markdown",
      "metadata": {
        "id": "GSbA7E4EDlka"
      },
      "source": [
        "**Original model**"
      ]
    },
    {
      "cell_type": "code",
      "execution_count": 10,
      "metadata": {
        "id": "8gy4ghYjDlka",
        "outputId": "17194a21-babc-4bb9-8224-83b972084da3",
        "colab": {
          "base_uri": "https://localhost:8080/"
        }
      },
      "outputs": [
        {
          "output_type": "stream",
          "name": "stdout",
          "text": [
            "Downloading data from https://storage.googleapis.com/tensorflow/tf-keras-datasets/imdb.npz\n",
            "17465344/17464789 [==============================] - 0s 0us/step\n",
            "17473536/17464789 [==============================] - 0s 0us/step\n",
            "Epoch 1/20\n",
            "30/30 [==============================] - 2s 43ms/step - loss: 0.5237 - accuracy: 0.7885 - val_loss: 0.3863 - val_accuracy: 0.8765\n",
            "Epoch 2/20\n",
            "30/30 [==============================] - 1s 36ms/step - loss: 0.3078 - accuracy: 0.9003 - val_loss: 0.3011 - val_accuracy: 0.8899\n",
            "Epoch 3/20\n",
            "30/30 [==============================] - 1s 34ms/step - loss: 0.2267 - accuracy: 0.9255 - val_loss: 0.3297 - val_accuracy: 0.8643\n",
            "Epoch 4/20\n",
            "30/30 [==============================] - 1s 35ms/step - loss: 0.1815 - accuracy: 0.9398 - val_loss: 0.2729 - val_accuracy: 0.8930\n",
            "Epoch 5/20\n",
            "30/30 [==============================] - 1s 33ms/step - loss: 0.1447 - accuracy: 0.9550 - val_loss: 0.2976 - val_accuracy: 0.8817\n",
            "Epoch 6/20\n",
            "30/30 [==============================] - 1s 34ms/step - loss: 0.1242 - accuracy: 0.9611 - val_loss: 0.2932 - val_accuracy: 0.8869\n",
            "Epoch 7/20\n",
            "30/30 [==============================] - 1s 36ms/step - loss: 0.1014 - accuracy: 0.9693 - val_loss: 0.3078 - val_accuracy: 0.8850\n",
            "Epoch 8/20\n",
            "30/30 [==============================] - 1s 33ms/step - loss: 0.0857 - accuracy: 0.9763 - val_loss: 0.3325 - val_accuracy: 0.8810\n",
            "Epoch 9/20\n",
            "30/30 [==============================] - 1s 39ms/step - loss: 0.0716 - accuracy: 0.9803 - val_loss: 0.3513 - val_accuracy: 0.8802\n",
            "Epoch 10/20\n",
            "30/30 [==============================] - 1s 50ms/step - loss: 0.0606 - accuracy: 0.9842 - val_loss: 0.3804 - val_accuracy: 0.8773\n",
            "Epoch 11/20\n",
            "30/30 [==============================] - 1s 45ms/step - loss: 0.0500 - accuracy: 0.9875 - val_loss: 0.3952 - val_accuracy: 0.8788\n",
            "Epoch 12/20\n",
            "30/30 [==============================] - 1s 34ms/step - loss: 0.0421 - accuracy: 0.9899 - val_loss: 0.4244 - val_accuracy: 0.8763\n",
            "Epoch 13/20\n",
            "30/30 [==============================] - 1s 33ms/step - loss: 0.0356 - accuracy: 0.9906 - val_loss: 0.4507 - val_accuracy: 0.8733\n",
            "Epoch 14/20\n",
            "30/30 [==============================] - 1s 33ms/step - loss: 0.0249 - accuracy: 0.9955 - val_loss: 0.4871 - val_accuracy: 0.8701\n",
            "Epoch 15/20\n",
            "30/30 [==============================] - 1s 34ms/step - loss: 0.0229 - accuracy: 0.9953 - val_loss: 0.5401 - val_accuracy: 0.8665\n",
            "Epoch 16/20\n",
            "30/30 [==============================] - 1s 36ms/step - loss: 0.0170 - accuracy: 0.9972 - val_loss: 0.5489 - val_accuracy: 0.8676\n",
            "Epoch 17/20\n",
            "30/30 [==============================] - 1s 34ms/step - loss: 0.0135 - accuracy: 0.9981 - val_loss: 0.5973 - val_accuracy: 0.8669\n",
            "Epoch 18/20\n",
            "30/30 [==============================] - 1s 33ms/step - loss: 0.0108 - accuracy: 0.9985 - val_loss: 0.6270 - val_accuracy: 0.8648\n",
            "Epoch 19/20\n",
            "30/30 [==============================] - 1s 34ms/step - loss: 0.0081 - accuracy: 0.9991 - val_loss: 0.6682 - val_accuracy: 0.8630\n",
            "Epoch 20/20\n",
            "30/30 [==============================] - 1s 32ms/step - loss: 0.0085 - accuracy: 0.9981 - val_loss: 0.7088 - val_accuracy: 0.8628\n"
          ]
        }
      ],
      "source": [
        "from tensorflow.keras.datasets import imdb\n",
        "(train_data, train_labels), _ = imdb.load_data(num_words=10000)\n",
        "\n",
        "def vectorize_sequences(sequences, dimension=10000):\n",
        "    results = np.zeros((len(sequences), dimension))\n",
        "    for i, sequence in enumerate(sequences):\n",
        "        results[i, sequence] = 1.\n",
        "    return results\n",
        "train_data = vectorize_sequences(train_data)\n",
        "\n",
        "model = keras.Sequential([\n",
        "    layers.Dense(16, activation=\"relu\"),\n",
        "    layers.Dense(16, activation=\"relu\"),\n",
        "    layers.Dense(1, activation=\"sigmoid\")\n",
        "])\n",
        "model.compile(optimizer=\"rmsprop\",\n",
        "              loss=\"binary_crossentropy\",\n",
        "              metrics=[\"accuracy\"])\n",
        "history_original = model.fit(train_data, train_labels,\n",
        "                             epochs=20, batch_size=512, validation_split=0.4)"
      ]
    },
    {
      "cell_type": "markdown",
      "metadata": {
        "id": "6ZQOZyrrDlka"
      },
      "source": [
        "**Version of the model with lower capacity**"
      ]
    },
    {
      "cell_type": "code",
      "execution_count": 11,
      "metadata": {
        "id": "TnYonqFADlka",
        "outputId": "002d9e3a-01de-48e2-97fd-6987e01d7a9e",
        "colab": {
          "base_uri": "https://localhost:8080/"
        }
      },
      "outputs": [
        {
          "output_type": "stream",
          "name": "stdout",
          "text": [
            "Epoch 1/20\n",
            "30/30 [==============================] - 2s 41ms/step - loss: 0.5759 - accuracy: 0.7727 - val_loss: 0.4870 - val_accuracy: 0.8470\n",
            "Epoch 2/20\n",
            "30/30 [==============================] - 1s 31ms/step - loss: 0.4219 - accuracy: 0.8869 - val_loss: 0.3959 - val_accuracy: 0.8732\n",
            "Epoch 3/20\n",
            "30/30 [==============================] - 1s 30ms/step - loss: 0.3334 - accuracy: 0.9106 - val_loss: 0.3435 - val_accuracy: 0.8856\n",
            "Epoch 4/20\n",
            "30/30 [==============================] - 1s 32ms/step - loss: 0.2736 - accuracy: 0.9235 - val_loss: 0.3109 - val_accuracy: 0.8900\n",
            "Epoch 5/20\n",
            "30/30 [==============================] - 1s 31ms/step - loss: 0.2310 - accuracy: 0.9340 - val_loss: 0.2915 - val_accuracy: 0.8911\n",
            "Epoch 6/20\n",
            "30/30 [==============================] - 1s 34ms/step - loss: 0.1996 - accuracy: 0.9426 - val_loss: 0.2842 - val_accuracy: 0.8903\n",
            "Epoch 7/20\n",
            "30/30 [==============================] - 1s 32ms/step - loss: 0.1746 - accuracy: 0.9499 - val_loss: 0.2816 - val_accuracy: 0.8906\n",
            "Epoch 8/20\n",
            "30/30 [==============================] - 1s 31ms/step - loss: 0.1550 - accuracy: 0.9561 - val_loss: 0.2806 - val_accuracy: 0.8906\n",
            "Epoch 9/20\n",
            "30/30 [==============================] - 1s 31ms/step - loss: 0.1377 - accuracy: 0.9615 - val_loss: 0.2771 - val_accuracy: 0.8915\n",
            "Epoch 10/20\n",
            "30/30 [==============================] - 1s 32ms/step - loss: 0.1236 - accuracy: 0.9656 - val_loss: 0.2848 - val_accuracy: 0.8880\n",
            "Epoch 11/20\n",
            "30/30 [==============================] - 1s 31ms/step - loss: 0.1101 - accuracy: 0.9708 - val_loss: 0.2946 - val_accuracy: 0.8866\n",
            "Epoch 12/20\n",
            "30/30 [==============================] - 1s 37ms/step - loss: 0.0990 - accuracy: 0.9740 - val_loss: 0.2982 - val_accuracy: 0.8882\n",
            "Epoch 13/20\n",
            "30/30 [==============================] - 1s 35ms/step - loss: 0.0885 - accuracy: 0.9777 - val_loss: 0.3086 - val_accuracy: 0.8842\n",
            "Epoch 14/20\n",
            "30/30 [==============================] - 1s 33ms/step - loss: 0.0791 - accuracy: 0.9806 - val_loss: 0.3247 - val_accuracy: 0.8803\n",
            "Epoch 15/20\n",
            "30/30 [==============================] - 1s 38ms/step - loss: 0.0709 - accuracy: 0.9831 - val_loss: 0.3327 - val_accuracy: 0.8816\n",
            "Epoch 16/20\n",
            "30/30 [==============================] - 1s 33ms/step - loss: 0.0643 - accuracy: 0.9853 - val_loss: 0.3580 - val_accuracy: 0.8786\n",
            "Epoch 17/20\n",
            "30/30 [==============================] - 1s 37ms/step - loss: 0.0576 - accuracy: 0.9881 - val_loss: 0.3661 - val_accuracy: 0.8782\n",
            "Epoch 18/20\n",
            "30/30 [==============================] - 1s 36ms/step - loss: 0.0517 - accuracy: 0.9895 - val_loss: 0.3713 - val_accuracy: 0.8785\n",
            "Epoch 19/20\n",
            "30/30 [==============================] - 1s 33ms/step - loss: 0.0460 - accuracy: 0.9911 - val_loss: 0.3866 - val_accuracy: 0.8776\n",
            "Epoch 20/20\n",
            "30/30 [==============================] - 1s 31ms/step - loss: 0.0413 - accuracy: 0.9925 - val_loss: 0.4025 - val_accuracy: 0.8773\n"
          ]
        }
      ],
      "source": [
        "model = keras.Sequential([\n",
        "    layers.Dense(4, activation=\"relu\"),\n",
        "    layers.Dense(4, activation=\"relu\"),\n",
        "    layers.Dense(1, activation=\"sigmoid\")\n",
        "])\n",
        "model.compile(optimizer=\"rmsprop\",\n",
        "              loss=\"binary_crossentropy\",\n",
        "              metrics=[\"accuracy\"])\n",
        "history_smaller_model = model.fit(\n",
        "    train_data, train_labels,\n",
        "    epochs=20, batch_size=512, validation_split=0.4)"
      ]
    },
    {
      "cell_type": "markdown",
      "metadata": {
        "id": "0q0LD_jhDlkb"
      },
      "source": [
        "**Version of the model with higher capacity**"
      ]
    },
    {
      "cell_type": "code",
      "execution_count": 12,
      "metadata": {
        "id": "MafkzA3rDlkb",
        "outputId": "a6a05954-499d-4349-a10b-31680e9bfd5c",
        "colab": {
          "base_uri": "https://localhost:8080/"
        }
      },
      "outputs": [
        {
          "output_type": "stream",
          "name": "stdout",
          "text": [
            "Epoch 1/20\n",
            "30/30 [==============================] - 12s 361ms/step - loss: 0.5496 - accuracy: 0.7558 - val_loss: 0.3912 - val_accuracy: 0.8272\n",
            "Epoch 2/20\n",
            "30/30 [==============================] - 9s 299ms/step - loss: 0.2592 - accuracy: 0.8975 - val_loss: 0.3179 - val_accuracy: 0.8732\n",
            "Epoch 3/20\n",
            "30/30 [==============================] - 9s 297ms/step - loss: 0.1559 - accuracy: 0.9400 - val_loss: 0.3079 - val_accuracy: 0.8915\n",
            "Epoch 4/20\n",
            "30/30 [==============================] - 9s 299ms/step - loss: 0.0716 - accuracy: 0.9739 - val_loss: 0.4070 - val_accuracy: 0.8835\n",
            "Epoch 5/20\n",
            "30/30 [==============================] - 9s 297ms/step - loss: 0.1103 - accuracy: 0.9754 - val_loss: 0.3711 - val_accuracy: 0.8849\n",
            "Epoch 6/20\n",
            "30/30 [==============================] - 9s 294ms/step - loss: 0.0044 - accuracy: 0.9995 - val_loss: 0.5111 - val_accuracy: 0.8869\n",
            "Epoch 7/20\n",
            "30/30 [==============================] - 9s 299ms/step - loss: 7.4667e-04 - accuracy: 0.9999 - val_loss: 0.6576 - val_accuracy: 0.8757\n",
            "Epoch 8/20\n",
            "30/30 [==============================] - 9s 297ms/step - loss: 0.2947 - accuracy: 0.9779 - val_loss: 0.5608 - val_accuracy: 0.8858\n",
            "Epoch 9/20\n",
            "30/30 [==============================] - 9s 300ms/step - loss: 3.7434e-04 - accuracy: 0.9999 - val_loss: 0.5858 - val_accuracy: 0.8870\n",
            "Epoch 10/20\n",
            "30/30 [==============================] - 9s 307ms/step - loss: 1.2183e-04 - accuracy: 1.0000 - val_loss: 0.6661 - val_accuracy: 0.8860\n",
            "Epoch 11/20\n",
            "30/30 [==============================] - 9s 293ms/step - loss: 3.7834e-05 - accuracy: 1.0000 - val_loss: 0.7399 - val_accuracy: 0.8854\n",
            "Epoch 12/20\n",
            "30/30 [==============================] - 9s 295ms/step - loss: 1.1254e-05 - accuracy: 1.0000 - val_loss: 0.8072 - val_accuracy: 0.8839\n",
            "Epoch 13/20\n",
            "30/30 [==============================] - 9s 298ms/step - loss: 3.3668e-06 - accuracy: 1.0000 - val_loss: 0.8808 - val_accuracy: 0.8840\n",
            "Epoch 14/20\n",
            "30/30 [==============================] - 9s 293ms/step - loss: 1.0721e-06 - accuracy: 1.0000 - val_loss: 0.9729 - val_accuracy: 0.8844\n",
            "Epoch 15/20\n",
            "30/30 [==============================] - 9s 295ms/step - loss: 3.6478e-07 - accuracy: 1.0000 - val_loss: 1.0506 - val_accuracy: 0.8849\n",
            "Epoch 16/20\n",
            "30/30 [==============================] - 9s 295ms/step - loss: 1.4085e-07 - accuracy: 1.0000 - val_loss: 1.1082 - val_accuracy: 0.8846\n",
            "Epoch 17/20\n",
            "30/30 [==============================] - 10s 345ms/step - loss: 6.0217e-08 - accuracy: 1.0000 - val_loss: 1.1592 - val_accuracy: 0.8848\n",
            "Epoch 18/20\n",
            "30/30 [==============================] - 9s 299ms/step - loss: 3.1738e-08 - accuracy: 1.0000 - val_loss: 1.2010 - val_accuracy: 0.8845\n",
            "Epoch 19/20\n",
            "30/30 [==============================] - 9s 306ms/step - loss: 2.0535e-08 - accuracy: 1.0000 - val_loss: 1.2200 - val_accuracy: 0.8845\n",
            "Epoch 20/20\n",
            "30/30 [==============================] - 9s 296ms/step - loss: 1.5025e-08 - accuracy: 1.0000 - val_loss: 1.2420 - val_accuracy: 0.8845\n"
          ]
        }
      ],
      "source": [
        "model = keras.Sequential([\n",
        "    layers.Dense(512, activation=\"relu\"),\n",
        "    layers.Dense(512, activation=\"relu\"),\n",
        "    layers.Dense(1, activation=\"sigmoid\")\n",
        "])\n",
        "model.compile(optimizer=\"rmsprop\",\n",
        "              loss=\"binary_crossentropy\",\n",
        "              metrics=[\"accuracy\"])\n",
        "history_larger_model = model.fit(\n",
        "    train_data, train_labels,\n",
        "    epochs=20, batch_size=512, validation_split=0.4)"
      ]
    },
    {
      "cell_type": "markdown",
      "metadata": {
        "id": "_Rx0aoRFDlkb"
      },
      "source": [
        "#### Adding weight regularization"
      ]
    },
    {
      "cell_type": "markdown",
      "metadata": {
        "id": "kWzK5tZXDlkb"
      },
      "source": [
        "**Adding L2 weight regularization to the model**"
      ]
    },
    {
      "cell_type": "code",
      "execution_count": 13,
      "metadata": {
        "id": "A0UrlufgDlkb",
        "outputId": "a2c5ce41-97bc-4a3e-98e8-f607e5e3c1ec",
        "colab": {
          "base_uri": "https://localhost:8080/"
        }
      },
      "outputs": [
        {
          "output_type": "stream",
          "name": "stdout",
          "text": [
            "Epoch 1/20\n",
            "30/30 [==============================] - 2s 46ms/step - loss: 0.5907 - accuracy: 0.7737 - val_loss: 0.5003 - val_accuracy: 0.8133\n",
            "Epoch 2/20\n",
            "30/30 [==============================] - 1s 37ms/step - loss: 0.3908 - accuracy: 0.8963 - val_loss: 0.4042 - val_accuracy: 0.8697\n",
            "Epoch 3/20\n",
            "30/30 [==============================] - 1s 36ms/step - loss: 0.3233 - accuracy: 0.9175 - val_loss: 0.3607 - val_accuracy: 0.8885\n",
            "Epoch 4/20\n",
            "30/30 [==============================] - 1s 39ms/step - loss: 0.2879 - accuracy: 0.9297 - val_loss: 0.3943 - val_accuracy: 0.8684\n",
            "Epoch 5/20\n",
            "30/30 [==============================] - 2s 68ms/step - loss: 0.2735 - accuracy: 0.9338 - val_loss: 0.3638 - val_accuracy: 0.8828\n",
            "Epoch 6/20\n",
            "30/30 [==============================] - 1s 45ms/step - loss: 0.2613 - accuracy: 0.9375 - val_loss: 0.3634 - val_accuracy: 0.8844\n",
            "Epoch 7/20\n",
            "30/30 [==============================] - 1s 37ms/step - loss: 0.2489 - accuracy: 0.9429 - val_loss: 0.3658 - val_accuracy: 0.8848\n",
            "Epoch 8/20\n",
            "30/30 [==============================] - 1s 36ms/step - loss: 0.2425 - accuracy: 0.9457 - val_loss: 0.3664 - val_accuracy: 0.8853\n",
            "Epoch 9/20\n",
            "30/30 [==============================] - 1s 37ms/step - loss: 0.2382 - accuracy: 0.9467 - val_loss: 0.3715 - val_accuracy: 0.8836\n",
            "Epoch 10/20\n",
            "30/30 [==============================] - 1s 36ms/step - loss: 0.2321 - accuracy: 0.9477 - val_loss: 0.3770 - val_accuracy: 0.8809\n",
            "Epoch 11/20\n",
            "30/30 [==============================] - 1s 38ms/step - loss: 0.2243 - accuracy: 0.9523 - val_loss: 0.3830 - val_accuracy: 0.8793\n",
            "Epoch 12/20\n",
            "30/30 [==============================] - 1s 36ms/step - loss: 0.2220 - accuracy: 0.9528 - val_loss: 0.3890 - val_accuracy: 0.8795\n",
            "Epoch 13/20\n",
            "30/30 [==============================] - 1s 36ms/step - loss: 0.2142 - accuracy: 0.9559 - val_loss: 0.4103 - val_accuracy: 0.8732\n",
            "Epoch 14/20\n",
            "30/30 [==============================] - 1s 37ms/step - loss: 0.2156 - accuracy: 0.9545 - val_loss: 0.3923 - val_accuracy: 0.8786\n",
            "Epoch 15/20\n",
            "30/30 [==============================] - 1s 36ms/step - loss: 0.2174 - accuracy: 0.9524 - val_loss: 0.4086 - val_accuracy: 0.8767\n",
            "Epoch 16/20\n",
            "30/30 [==============================] - 1s 37ms/step - loss: 0.2116 - accuracy: 0.9550 - val_loss: 0.4159 - val_accuracy: 0.8734\n",
            "Epoch 17/20\n",
            "30/30 [==============================] - 1s 37ms/step - loss: 0.2032 - accuracy: 0.9609 - val_loss: 0.4260 - val_accuracy: 0.8723\n",
            "Epoch 18/20\n",
            "30/30 [==============================] - 1s 37ms/step - loss: 0.2083 - accuracy: 0.9563 - val_loss: 0.4436 - val_accuracy: 0.8660\n",
            "Epoch 19/20\n",
            "30/30 [==============================] - 1s 37ms/step - loss: 0.2035 - accuracy: 0.9607 - val_loss: 0.4194 - val_accuracy: 0.8734\n",
            "Epoch 20/20\n",
            "30/30 [==============================] - 1s 39ms/step - loss: 0.1991 - accuracy: 0.9613 - val_loss: 0.4311 - val_accuracy: 0.8724\n"
          ]
        }
      ],
      "source": [
        "from tensorflow.keras import regularizers\n",
        "model = keras.Sequential([\n",
        "    layers.Dense(16,\n",
        "                 kernel_regularizer=regularizers.l2(0.002),\n",
        "                 activation=\"relu\"),\n",
        "    layers.Dense(16,\n",
        "                 kernel_regularizer=regularizers.l2(0.002),\n",
        "                 activation=\"relu\"),\n",
        "    layers.Dense(1, activation=\"sigmoid\")\n",
        "])\n",
        "model.compile(optimizer=\"rmsprop\",\n",
        "              loss=\"binary_crossentropy\",\n",
        "              metrics=[\"accuracy\"])\n",
        "history_l2_reg = model.fit(\n",
        "    train_data, train_labels,\n",
        "    epochs=20, batch_size=512, validation_split=0.4)"
      ]
    },
    {
      "cell_type": "markdown",
      "metadata": {
        "id": "mBlDM-XLDlkc"
      },
      "source": [
        "**Different weight regularizers available in Keras**"
      ]
    },
    {
      "cell_type": "code",
      "execution_count": 14,
      "metadata": {
        "id": "otkUhpQfDlkc",
        "outputId": "cbdbdc07-de8b-49e5-d3a2-bb523f1692db",
        "colab": {
          "base_uri": "https://localhost:8080/"
        }
      },
      "outputs": [
        {
          "output_type": "execute_result",
          "data": {
            "text/plain": [
              "<keras.regularizers.L1L2 at 0x7f4b136e9c50>"
            ]
          },
          "metadata": {},
          "execution_count": 14
        }
      ],
      "source": [
        "from tensorflow.keras import regularizers\n",
        "regularizers.l1(0.001)\n",
        "regularizers.l1_l2(l1=0.001, l2=0.001)"
      ]
    },
    {
      "cell_type": "markdown",
      "metadata": {
        "id": "uWiwai2HDlkc"
      },
      "source": [
        "#### Adding dropout"
      ]
    },
    {
      "cell_type": "markdown",
      "metadata": {
        "id": "mo4CTgjrDlkc"
      },
      "source": [
        "**Adding dropout to the IMDB model**"
      ]
    },
    {
      "cell_type": "code",
      "execution_count": 15,
      "metadata": {
        "id": "t4LhU7K5Dlkc",
        "outputId": "fa244bbd-4432-43b4-f51b-50426f479152",
        "colab": {
          "base_uri": "https://localhost:8080/"
        }
      },
      "outputs": [
        {
          "output_type": "stream",
          "name": "stdout",
          "text": [
            "Epoch 1/20\n",
            "30/30 [==============================] - 3s 49ms/step - loss: 0.6402 - accuracy: 0.6345 - val_loss: 0.5313 - val_accuracy: 0.8387\n",
            "Epoch 2/20\n",
            "30/30 [==============================] - 1s 35ms/step - loss: 0.5195 - accuracy: 0.7739 - val_loss: 0.4071 - val_accuracy: 0.8671\n",
            "Epoch 3/20\n",
            "30/30 [==============================] - 1s 39ms/step - loss: 0.4273 - accuracy: 0.8313 - val_loss: 0.3349 - val_accuracy: 0.8791\n",
            "Epoch 4/20\n",
            "30/30 [==============================] - 1s 36ms/step - loss: 0.3688 - accuracy: 0.8597 - val_loss: 0.2999 - val_accuracy: 0.8857\n",
            "Epoch 5/20\n",
            "30/30 [==============================] - 1s 35ms/step - loss: 0.3142 - accuracy: 0.8861 - val_loss: 0.2809 - val_accuracy: 0.8909\n",
            "Epoch 6/20\n",
            "30/30 [==============================] - 1s 38ms/step - loss: 0.2689 - accuracy: 0.9089 - val_loss: 0.2830 - val_accuracy: 0.8899\n",
            "Epoch 7/20\n",
            "30/30 [==============================] - 1s 36ms/step - loss: 0.2430 - accuracy: 0.9155 - val_loss: 0.2780 - val_accuracy: 0.8909\n",
            "Epoch 8/20\n",
            "30/30 [==============================] - 1s 35ms/step - loss: 0.2147 - accuracy: 0.9271 - val_loss: 0.2864 - val_accuracy: 0.8901\n",
            "Epoch 9/20\n",
            "30/30 [==============================] - 1s 36ms/step - loss: 0.1864 - accuracy: 0.9383 - val_loss: 0.2967 - val_accuracy: 0.8900\n",
            "Epoch 10/20\n",
            "30/30 [==============================] - 1s 36ms/step - loss: 0.1671 - accuracy: 0.9436 - val_loss: 0.3210 - val_accuracy: 0.8874\n",
            "Epoch 11/20\n",
            "30/30 [==============================] - 1s 36ms/step - loss: 0.1508 - accuracy: 0.9509 - val_loss: 0.3458 - val_accuracy: 0.8887\n",
            "Epoch 12/20\n",
            "30/30 [==============================] - 1s 36ms/step - loss: 0.1357 - accuracy: 0.9543 - val_loss: 0.3680 - val_accuracy: 0.8860\n",
            "Epoch 13/20\n",
            "30/30 [==============================] - 1s 37ms/step - loss: 0.1241 - accuracy: 0.9585 - val_loss: 0.3924 - val_accuracy: 0.8809\n",
            "Epoch 14/20\n",
            "30/30 [==============================] - 1s 36ms/step - loss: 0.1155 - accuracy: 0.9616 - val_loss: 0.4221 - val_accuracy: 0.8865\n",
            "Epoch 15/20\n",
            "30/30 [==============================] - 1s 36ms/step - loss: 0.1030 - accuracy: 0.9635 - val_loss: 0.4630 - val_accuracy: 0.8843\n",
            "Epoch 16/20\n",
            "30/30 [==============================] - 1s 36ms/step - loss: 0.0968 - accuracy: 0.9667 - val_loss: 0.4527 - val_accuracy: 0.8875\n",
            "Epoch 17/20\n",
            "30/30 [==============================] - 1s 36ms/step - loss: 0.0923 - accuracy: 0.9687 - val_loss: 0.4896 - val_accuracy: 0.8853\n",
            "Epoch 18/20\n",
            "30/30 [==============================] - 1s 36ms/step - loss: 0.0883 - accuracy: 0.9694 - val_loss: 0.5140 - val_accuracy: 0.8837\n",
            "Epoch 19/20\n",
            "30/30 [==============================] - 1s 36ms/step - loss: 0.0800 - accuracy: 0.9707 - val_loss: 0.5425 - val_accuracy: 0.8819\n",
            "Epoch 20/20\n",
            "30/30 [==============================] - 1s 35ms/step - loss: 0.0868 - accuracy: 0.9691 - val_loss: 0.5472 - val_accuracy: 0.8826\n"
          ]
        }
      ],
      "source": [
        "model = keras.Sequential([\n",
        "    layers.Dense(16, activation=\"relu\"),\n",
        "    layers.Dropout(0.5),\n",
        "    layers.Dense(16, activation=\"relu\"),\n",
        "    layers.Dropout(0.5),\n",
        "    layers.Dense(1, activation=\"sigmoid\")\n",
        "])\n",
        "model.compile(optimizer=\"rmsprop\",\n",
        "              loss=\"binary_crossentropy\",\n",
        "              metrics=[\"accuracy\"])\n",
        "history_dropout = model.fit(\n",
        "    train_data, train_labels,\n",
        "    epochs=20, batch_size=512, validation_split=0.4)"
      ]
    },
    {
      "cell_type": "markdown",
      "metadata": {
        "id": "8A6RZWDUDlkd"
      },
      "source": [
        "## Summary"
      ]
    }
  ],
  "metadata": {
    "colab": {
      "collapsed_sections": [],
      "name": "chapter05_fundamentals-of-ml.i",
      "provenance": []
    },
    "kernelspec": {
      "display_name": "Python 3",
      "language": "python",
      "name": "python3"
    },
    "language_info": {
      "codemirror_mode": {
        "name": "ipython",
        "version": 3
      },
      "file_extension": ".py",
      "mimetype": "text/x-python",
      "name": "python",
      "nbconvert_exporter": "python",
      "pygments_lexer": "ipython3",
      "version": "3.7.0"
    }
  },
  "nbformat": 4,
  "nbformat_minor": 0
}