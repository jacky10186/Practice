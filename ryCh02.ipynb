{
  "cells": [
    {
      "cell_type": "markdown",
      "id": "4023bfc6-22aa-4545-8c19-48b4ae101a3b",
      "metadata": {
        "id": "4023bfc6-22aa-4545-8c19-48b4ae101a3b"
      },
      "source": [
        "# 長庚大學 資工系/人工智慧學程  樣形識別/深度學習 課程使用之教材及示範程式 Ch02"
      ]
    },
    {
      "cell_type": "code",
      "execution_count": 31,
      "id": "fe262b16-1ad9-4057-8abf-188f9f0ed3dc",
      "metadata": {
        "id": "fe262b16-1ad9-4057-8abf-188f9f0ed3dc"
      },
      "outputs": [],
      "source": [
        "import numpy as np\n",
        "import tensorflow as tf\n",
        "import tensorflow.keras as keras"
      ]
    },
    {
      "cell_type": "code",
      "execution_count": 32,
      "id": "c5f9aa07-85d8-47f3-a8a9-edd2264ea3fb",
      "metadata": {
        "id": "c5f9aa07-85d8-47f3-a8a9-edd2264ea3fb"
      },
      "outputs": [],
      "source": [
        "(xr,yr), (xt,yt)= keras.datasets.mnist.load_data()"
      ]
    },
    {
      "cell_type": "code",
      "execution_count": 33,
      "id": "8c5713fc-00c8-4659-8831-21ba3832f17e",
      "metadata": {
        "id": "8c5713fc-00c8-4659-8831-21ba3832f17e",
        "outputId": "aec54c6d-43f6-437b-cbfa-b463eb6092ff",
        "colab": {
          "base_uri": "https://localhost:8080/"
        }
      },
      "outputs": [
        {
          "output_type": "execute_result",
          "data": {
            "text/plain": [
              "((60000, 28, 28), (60000,), (10000, 28, 28), (10000,))"
            ]
          },
          "metadata": {},
          "execution_count": 33
        }
      ],
      "source": [
        "xr.shape, yr.shape, xt.shape, yt.shape"
      ]
    },
    {
      "cell_type": "code",
      "execution_count": 34,
      "id": "66533075-600c-49d1-9a29-4f3e5d8d7b03",
      "metadata": {
        "id": "66533075-600c-49d1-9a29-4f3e5d8d7b03",
        "outputId": "57623780-2a02-4ad4-faf9-801927d7c5fd",
        "colab": {
          "base_uri": "https://localhost:8080/"
        }
      },
      "outputs": [
        {
          "output_type": "stream",
          "name": "stdout",
          "text": [
            "  0  0  0  0  0  0  0  0  0  0  0  0  0  0  0  0  0  0  0  0  0  0  0  0  0  0  0  0\n",
            "  0  0  0  0  0  0  0  0  0  0  0  0  0  0  0  0  0  0  0  0  0  0  0  0  0  0  0  0\n",
            "  0  0  0  0  0  0  0  0  0  0  0  0  0  0  0  0  0  0  0  0  0  0  0  0  0  0  0  0\n",
            "  0  0  0  0  0  0  0  0  0  0  0  0  0  0  0  0  0  0  0  0  0  0  0  0  0  0  0  0\n",
            "  0  0  0  0  0  0  0  0  0  0  0  0  0  0  0  0  0  0  0  0  0  0  0  0  0  0  0  0\n",
            "  0  0  0  0  0  0  0  0  0  0  0  0  3 18 18 18126136175 26166255247127  0  0  0  0\n",
            "  0  0  0  0  0  0  0  0 30 36 94154170253253253253253225172253242195 64  0  0  0  0\n",
            "  0  0  0  0  0  0  0 49238253253253253253253253253251 93 82 82 56 39  0  0  0  0  0\n",
            "  0  0  0  0  0  0  0 18219253253253253253198182247241  0  0  0  0  0  0  0  0  0  0\n",
            "  0  0  0  0  0  0  0  0 80156107253253205 11  0 43154  0  0  0  0  0  0  0  0  0  0\n",
            "  0  0  0  0  0  0  0  0  0 14  1154253 90  0  0  0  0  0  0  0  0  0  0  0  0  0  0\n",
            "  0  0  0  0  0  0  0  0  0  0  0139253190  2  0  0  0  0  0  0  0  0  0  0  0  0  0\n",
            "  0  0  0  0  0  0  0  0  0  0  0 11190253 70  0  0  0  0  0  0  0  0  0  0  0  0  0\n",
            "  0  0  0  0  0  0  0  0  0  0  0  0 35241225160108  1  0  0  0  0  0  0  0  0  0  0\n",
            "  0  0  0  0  0  0  0  0  0  0  0  0  0 81240253253119 25  0  0  0  0  0  0  0  0  0\n",
            "  0  0  0  0  0  0  0  0  0  0  0  0  0  0 45186253253150 27  0  0  0  0  0  0  0  0\n",
            "  0  0  0  0  0  0  0  0  0  0  0  0  0  0  0 16 93252253187  0  0  0  0  0  0  0  0\n",
            "  0  0  0  0  0  0  0  0  0  0  0  0  0  0  0  0  0249253249 64  0  0  0  0  0  0  0\n",
            "  0  0  0  0  0  0  0  0  0  0  0  0  0  0 46130183253253207  2  0  0  0  0  0  0  0\n",
            "  0  0  0  0  0  0  0  0  0  0  0  0 39148229253253253250182  0  0  0  0  0  0  0  0\n",
            "  0  0  0  0  0  0  0  0  0  0 24114221253253253253201 78  0  0  0  0  0  0  0  0  0\n",
            "  0  0  0  0  0  0  0  0 23 66213253253253253198 81  2  0  0  0  0  0  0  0  0  0  0\n",
            "  0  0  0  0  0  0 18171219253253253253195 80  9  0  0  0  0  0  0  0  0  0  0  0  0\n",
            "  0  0  0  0 55172226253253253253244133 11  0  0  0  0  0  0  0  0  0  0  0  0  0  0\n",
            "  0  0  0  0136253253253212135132 16  0  0  0  0  0  0  0  0  0  0  0  0  0  0  0  0\n",
            "  0  0  0  0  0  0  0  0  0  0  0  0  0  0  0  0  0  0  0  0  0  0  0  0  0  0  0  0\n",
            "  0  0  0  0  0  0  0  0  0  0  0  0  0  0  0  0  0  0  0  0  0  0  0  0  0  0  0  0\n",
            "  0  0  0  0  0  0  0  0  0  0  0  0  0  0  0  0  0  0  0  0  0  0  0  0  0  0  0  0\n"
          ]
        }
      ],
      "source": [
        "x= xr[0]\n",
        "#%%\n",
        "for i in range(28):\n",
        "    for j in range(28):\n",
        "        z= x[i,j]\n",
        "        print(f'{z:3d}', end='')\n",
        "    print()"
      ]
    },
    {
      "cell_type": "code",
      "execution_count": 35,
      "id": "0c746e80-cd34-424c-b622-010923ce355a",
      "metadata": {
        "id": "0c746e80-cd34-424c-b622-010923ce355a",
        "outputId": "f04cbc06-0378-4b33-9b0e-41705c1dd749",
        "colab": {
          "base_uri": "https://localhost:8080/",
          "height": 283
        }
      },
      "outputs": [
        {
          "output_type": "execute_result",
          "data": {
            "text/plain": [
              "<matplotlib.image.AxesImage at 0x7f9a7dd9f9d0>"
            ]
          },
          "metadata": {},
          "execution_count": 35
        },
        {
          "output_type": "display_data",
          "data": {
            "text/plain": [
              "<Figure size 432x288 with 1 Axes>"
            ],
            "image/png": "[encoded data removed]"
          },
          "metadata": {
            "needs_background": "light"
          }
        }
      ],
      "source": [
        "import matplotlib.pyplot as pl\n",
        "pl.imshow(x)"
      ]
    },
    {
      "cell_type": "markdown",
      "id": "8b4ee66f-1d7c-4cf2-bc53-6107399974b9",
      "metadata": {
        "id": "8b4ee66f-1d7c-4cf2-bc53-6107399974b9"
      },
      "source": [
        "# 想想看，你能做那些改進來提升正確率 (accuracy) ？\n"
      ]
    },
    {
      "cell_type": "markdown",
      "source": [
        "原本範例:\n",
        "\n",
        "Epoch 1/10\n",
        "600/600 [==============================] - 2s 3ms/step - loss: 0.2963 - accuracy: 0.9145\n",
        "\n",
        "Epoch 2/10\n",
        "600/600 [==============================] - 2s 3ms/step - loss: 0.1250 - accuracy: 0.9625\n",
        "\n",
        "Epoch 3/10\n",
        "600/600 [==============================] - 2s 3ms/step - loss: 0.0869 - accuracy: 0.9745\n",
        "\n",
        "Epoch 4/10\n",
        "600/600 [==============================] - 2s 3ms/step - loss: 0.0669 - accuracy: 0.9794\n",
        "\n",
        "Epoch 5/10\n",
        "600/600 [==============================] - 2s 3ms/step - loss: 0.0530 - accuracy: 0.9837\n",
        "\n",
        "Epoch 6/10\n",
        "600/600 [==============================] - 2s 3ms/step - loss: 0.0436 - accuracy: 0.9867\n",
        "\n",
        "Epoch 7/10\n",
        "600/600 [==============================] - 2s 3ms/step - loss: 0.0355 - accuracy: 0.9889\n",
        "\n",
        "Epoch 8/10\n",
        "600/600 [==============================] - 2s 3ms/step - loss: 0.0294 - accuracy: 0.9915\n",
        "\n",
        "Epoch 9/10\n",
        "600/600 [==============================] - 2s 3ms/step - loss: 0.0246 - accuracy: 0.9922\n",
        "\n",
        "Epoch 10/10\n",
        "600/600 [==============================] - 2s 3ms/step - loss: 0.0202 - accuracy: 0.9939\n",
        "\n",
        "313/313 [==============================] - 1s 2ms/step - loss: 0.0751 - accuracy: 0.9817\n",
        "[0.07507367432117462, 0.9817000031471252]"
      ],
      "metadata": {
        "id": "jr7taiXCX72J"
      },
      "id": "jr7taiXCX72J"
    },
    {
      "cell_type": "markdown",
      "source": [
        "\n",
        "*   增加keras.layers.Dense 係數\n",
        "*   增加xt.reshape 係數\n",
        "\n"
      ],
      "metadata": {
        "id": "7HPfb5nIYVrn"
      },
      "id": "7HPfb5nIYVrn"
    },
    {
      "cell_type": "code",
      "execution_count": 39,
      "id": "41d802a2-1411-4e0f-b9e3-8aaba68b5323",
      "metadata": {
        "id": "41d802a2-1411-4e0f-b9e3-8aaba68b5323",
        "outputId": "3c7ef84e-efaa-455d-9d4a-ac8f03db2af2",
        "colab": {
          "base_uri": "https://localhost:8080/"
        }
      },
      "outputs": [
        {
          "output_type": "stream",
          "name": "stdout",
          "text": [
            "Epoch 1/10\n",
            "600/600 [==============================] - 5s 6ms/step - loss: 0.2743 - accuracy: 0.9217\n",
            "Epoch 2/10\n",
            "600/600 [==============================] - 3s 5ms/step - loss: 0.1146 - accuracy: 0.9647\n",
            "Epoch 3/10\n",
            "600/600 [==============================] - 4s 7ms/step - loss: 0.0789 - accuracy: 0.9759\n",
            "Epoch 4/10\n",
            "600/600 [==============================] - 5s 9ms/step - loss: 0.0580 - accuracy: 0.9818\n",
            "Epoch 5/10\n",
            "600/600 [==============================] - 5s 8ms/step - loss: 0.0465 - accuracy: 0.9856\n",
            "Epoch 6/10\n",
            "600/600 [==============================] - 4s 7ms/step - loss: 0.0367 - accuracy: 0.9887\n",
            "Epoch 7/10\n",
            "600/600 [==============================] - 4s 7ms/step - loss: 0.0298 - accuracy: 0.9908\n",
            "Epoch 8/10\n",
            "600/600 [==============================] - 4s 7ms/step - loss: 0.0246 - accuracy: 0.9929\n",
            "Epoch 9/10\n",
            "600/600 [==============================] - 4s 7ms/step - loss: 0.0199 - accuracy: 0.9937\n",
            "Epoch 10/10\n",
            "600/600 [==============================] - 6s 10ms/step - loss: 0.0160 - accuracy: 0.9949\n",
            "313/313 [==============================] - 1s 2ms/step - loss: 0.0827 - accuracy: 0.9809\n"
          ]
        },
        {
          "output_type": "execute_result",
          "data": {
            "text/plain": [
              "[0.08273880928754807, 0.98089998960495]"
            ]
          },
          "metadata": {},
          "execution_count": 39
        }
      ],
      "source": [
        "xr1= xr.reshape(-1,28*28) /255\n",
        "xt1= xt.reshape(-1,28*28) /255\n",
        "\n",
        "aModel= keras.Sequential([\n",
        "    keras.Input(28*28),\n",
        "    keras.layers.Dense(200, activation= 'relu'), \n",
        "    keras.layers.Dense(50,  activation= 'relu'), \n",
        "    keras.layers.Dense(10,  activation= 'softmax')\n",
        "    ])\n",
        "\n",
        "aModel.compile(\n",
        "    loss=     'sparse_categorical_crossentropy',\n",
        "    metrics= ['accuracy']\n",
        "    )\n",
        "\n",
        "aModel.fit(xr1, yr, \n",
        "           epochs= 10, \n",
        "           batch_size= 100)\n",
        "\n",
        "aModel.evaluate(xt1, yt)"
      ]
    },
    {
      "cell_type": "code",
      "execution_count": 41,
      "id": "94d687ab-36e6-4c47-b181-0ced7cc1fabc",
      "metadata": {
        "id": "94d687ab-36e6-4c47-b181-0ced7cc1fabc",
        "outputId": "e9fbdc79-e464-42f1-c65c-69a3ead8dcd6",
        "colab": {
          "base_uri": "https://localhost:8080/"
        }
      },
      "outputs": [
        {
          "output_type": "stream",
          "name": "stdout",
          "text": [
            "Epoch 1/10\n",
            "600/600 [==============================] - 4s 6ms/step - loss: 0.2820 - accuracy: 0.9174\n",
            "Epoch 2/10\n",
            "600/600 [==============================] - 5s 8ms/step - loss: 0.1138 - accuracy: 0.9662\n",
            "Epoch 3/10\n",
            "600/600 [==============================] - 3s 6ms/step - loss: 0.0778 - accuracy: 0.9762\n",
            "Epoch 4/10\n",
            "600/600 [==============================] - 4s 6ms/step - loss: 0.0590 - accuracy: 0.9824\n",
            "Epoch 5/10\n",
            "600/600 [==============================] - 5s 9ms/step - loss: 0.0468 - accuracy: 0.9857\n",
            "Epoch 6/10\n",
            "600/600 [==============================] - 3s 6ms/step - loss: 0.0364 - accuracy: 0.9885\n",
            "Epoch 7/10\n",
            "600/600 [==============================] - 5s 9ms/step - loss: 0.0305 - accuracy: 0.9903\n",
            "Epoch 8/10\n",
            "600/600 [==============================] - 4s 7ms/step - loss: 0.0242 - accuracy: 0.9926\n",
            "Epoch 9/10\n",
            "600/600 [==============================] - 3s 5ms/step - loss: 0.0200 - accuracy: 0.9940\n",
            "Epoch 10/10\n",
            "600/600 [==============================] - 3s 5ms/step - loss: 0.0163 - accuracy: 0.9950\n",
            "313/313 [==============================] - 1s 2ms/step - loss: 0.0801 - accuracy: 0.9801\n"
          ]
        },
        {
          "output_type": "execute_result",
          "data": {
            "text/plain": [
              "[0.08009420335292816, 0.9800999760627747]"
            ]
          },
          "metadata": {},
          "execution_count": 41
        }
      ],
      "source": [
        "xr1= xr.reshape(-1,28*28) /255\n",
        "xt1= xt.reshape(-4,28*28) /255\n",
        "\n",
        "aModel= keras.Sequential([\n",
        "    keras.Input(28*28),\n",
        "    keras.layers.Dense(200, activation= 'relu'), \n",
        "    keras.layers.Dense(50,  activation= 'relu'), \n",
        "    keras.layers.Dense(10,  activation= 'softmax')\n",
        "    ])\n",
        "\n",
        "aModel.compile(\n",
        "    loss=     'sparse_categorical_crossentropy',\n",
        "    metrics= ['accuracy']\n",
        "    )\n",
        "\n",
        "aModel.fit(xr1, yr, \n",
        "           epochs= 10, \n",
        "           batch_size= 100)\n",
        "\n",
        "aModel.evaluate(xt1, yt)"
      ]
    }
  ],
  "metadata": {
    "kernelspec": {
      "display_name": "Python 3 (ipykernel)",
      "language": "python",
      "name": "python3"
    },
    "language_info": {
      "codemirror_mode": {
        "name": "ipython",
        "version": 3
      },
      "file_extension": ".py",
      "mimetype": "text/x-python",
      "name": "python",
      "nbconvert_exporter": "python",
      "pygments_lexer": "ipython3",
      "version": "3.9.12"
    },
    "colab": {
      "provenance": []
    }
  },
  "nbformat": 4,
  "nbformat_minor": 5
}