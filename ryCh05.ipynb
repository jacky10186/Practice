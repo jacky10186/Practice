{
  "cells": [
    {
      "cell_type": "markdown",
      "metadata": {
        "id": "XdHT9jcNPzUU"
      },
      "source": [
        "# Fundamentals of machine learning"
      ]
    },
    {
      "cell_type": "markdown",
      "metadata": {
        "id": "GJC-Ss9TPzUU"
      },
      "source": [
        "## Generalization: The goal of machine learning"
      ]
    },
    {
      "cell_type": "markdown",
      "metadata": {
        "id": "qHxhiVnIPzUV"
      },
      "source": [
        "### Underfitting and overfitting"
      ]
    },
    {
      "cell_type": "markdown",
      "metadata": {
        "id": "0LlOhKZnPzUV"
      },
      "source": [
        "#### Noisy training data"
      ]
    },
    {
      "cell_type": "markdown",
      "metadata": {
        "id": "r_MCOfEmPzUV"
      },
      "source": [
        "#### Ambiguous features"
      ]
    },
    {
      "cell_type": "markdown",
      "metadata": {
        "id": "cHsmsHaTPzUV"
      },
      "source": [
        "#### Rare features and spurious correlations"
      ]
    },
    {
      "cell_type": "markdown",
      "metadata": {
        "id": "3CL4-R6NPzUW"
      },
      "source": [
        "**Adding white-noise channels or all-zeros channels to MNIST**"
      ]
    },
    {
      "cell_type": "code",
      "execution_count": 1,
      "metadata": {
        "id": "bchSPlFFPzUW",
        "outputId": "9b5da08e-c9de-4b4f-c322-289a9e36b7ad",
        "colab": {
          "base_uri": "https://localhost:8080/"
        }
      },
      "outputs": [
        {
          "output_type": "stream",
          "name": "stdout",
          "text": [
            "Downloading data from https://storage.googleapis.com/tensorflow/tf-keras-datasets/mnist.npz\n",
            "11490434/11490434 [==============================] - 0s 0us/step\n"
          ]
        }
      ],
      "source": [
        "from tensorflow.keras.datasets import mnist\n",
        "import numpy as np\n",
        "\n",
        "(train_images, train_labels), _ = mnist.load_data()\n",
        "train_images = train_images.reshape((60000, 28 * 28))\n",
        "train_images = train_images.astype(\"float32\") / 255\n",
        "\n",
        "train_images_with_noise_channels = np.concatenate(\n",
        "    [train_images, np.random.random((len(train_images), 784))], axis=1)\n",
        "\n",
        "train_images_with_zeros_channels = np.concatenate(\n",
        "    [train_images, np.zeros((len(train_images), 784))], axis=1)"
      ]
    },
    {
      "cell_type": "markdown",
      "metadata": {
        "id": "CO13CP9uPzUX"
      },
      "source": [
        "**Training the same model on MNIST data with noise channels or all-zero channels**"
      ]
    },
    {
      "cell_type": "code",
      "execution_count": 2,
      "metadata": {
        "id": "BixijCwWPzUX",
        "outputId": "585a3d8a-6248-4f7b-d966-fea0f1b3ec85",
        "colab": {
          "base_uri": "https://localhost:8080/"
        }
      },
      "outputs": [
        {
          "output_type": "stream",
          "name": "stdout",
          "text": [
            "Epoch 1/10\n",
            "375/375 [==============================] - 15s 36ms/step - loss: 0.6366 - accuracy: 0.8087 - val_loss: 0.2744 - val_accuracy: 0.9184\n",
            "Epoch 2/10\n",
            "375/375 [==============================] - 8s 21ms/step - loss: 0.2547 - accuracy: 0.9206 - val_loss: 0.2102 - val_accuracy: 0.9365\n",
            "Epoch 3/10\n",
            "375/375 [==============================] - 8s 22ms/step - loss: 0.1609 - accuracy: 0.9508 - val_loss: 0.2037 - val_accuracy: 0.9371\n",
            "Epoch 4/10\n",
            "375/375 [==============================] - 8s 21ms/step - loss: 0.1155 - accuracy: 0.9641 - val_loss: 0.1429 - val_accuracy: 0.9580\n",
            "Epoch 5/10\n",
            "375/375 [==============================] - 8s 21ms/step - loss: 0.0835 - accuracy: 0.9736 - val_loss: 0.1629 - val_accuracy: 0.9524\n",
            "Epoch 6/10\n",
            "375/375 [==============================] - 9s 23ms/step - loss: 0.0634 - accuracy: 0.9800 - val_loss: 0.1428 - val_accuracy: 0.9610\n",
            "Epoch 7/10\n",
            "375/375 [==============================] - 9s 23ms/step - loss: 0.0457 - accuracy: 0.9850 - val_loss: 0.1168 - val_accuracy: 0.9671\n",
            "Epoch 8/10\n",
            "375/375 [==============================] - 8s 22ms/step - loss: 0.0348 - accuracy: 0.9886 - val_loss: 0.1550 - val_accuracy: 0.9607\n",
            "Epoch 9/10\n",
            "375/375 [==============================] - 8s 22ms/step - loss: 0.0270 - accuracy: 0.9916 - val_loss: 0.1222 - val_accuracy: 0.9702\n",
            "Epoch 10/10\n",
            "375/375 [==============================] - 8s 21ms/step - loss: 0.0198 - accuracy: 0.9937 - val_loss: 0.1325 - val_accuracy: 0.9681\n",
            "Epoch 1/10\n",
            "375/375 [==============================] - 9s 23ms/step - loss: 0.2849 - accuracy: 0.9171 - val_loss: 0.1485 - val_accuracy: 0.9557\n",
            "Epoch 2/10\n",
            "375/375 [==============================] - 8s 21ms/step - loss: 0.1182 - accuracy: 0.9641 - val_loss: 0.1080 - val_accuracy: 0.9687\n",
            "Epoch 3/10\n",
            "375/375 [==============================] - 8s 21ms/step - loss: 0.0780 - accuracy: 0.9768 - val_loss: 0.0946 - val_accuracy: 0.9718\n",
            "Epoch 4/10\n",
            "375/375 [==============================] - 8s 21ms/step - loss: 0.0562 - accuracy: 0.9835 - val_loss: 0.0946 - val_accuracy: 0.9722\n",
            "Epoch 5/10\n",
            "375/375 [==============================] - 9s 24ms/step - loss: 0.0420 - accuracy: 0.9875 - val_loss: 0.0778 - val_accuracy: 0.9773\n",
            "Epoch 6/10\n",
            "375/375 [==============================] - 8s 22ms/step - loss: 0.0314 - accuracy: 0.9911 - val_loss: 0.0782 - val_accuracy: 0.9771\n",
            "Epoch 7/10\n",
            "375/375 [==============================] - 8s 22ms/step - loss: 0.0237 - accuracy: 0.9933 - val_loss: 0.0780 - val_accuracy: 0.9780\n",
            "Epoch 8/10\n",
            "375/375 [==============================] - 8s 22ms/step - loss: 0.0187 - accuracy: 0.9946 - val_loss: 0.0818 - val_accuracy: 0.9795\n",
            "Epoch 9/10\n",
            "375/375 [==============================] - 8s 21ms/step - loss: 0.0142 - accuracy: 0.9958 - val_loss: 0.0802 - val_accuracy: 0.9792\n",
            "Epoch 10/10\n",
            "375/375 [==============================] - 8s 21ms/step - loss: 0.0106 - accuracy: 0.9970 - val_loss: 0.0850 - val_accuracy: 0.9797\n"
          ]
        }
      ],
      "source": [
        "from tensorflow import keras\n",
        "from tensorflow.keras import layers\n",
        "\n",
        "def get_model():\n",
        "    model = keras.Sequential([\n",
        "        layers.Dense(512, activation=\"relu\"),\n",
        "        layers.Dense(10, activation=\"softmax\")\n",
        "    ])\n",
        "    model.compile(optimizer=\"rmsprop\",\n",
        "                  loss=\"sparse_categorical_crossentropy\",\n",
        "                  metrics=[\"accuracy\"])\n",
        "    return model\n",
        "\n",
        "model = get_model()\n",
        "history_noise = model.fit(\n",
        "    train_images_with_noise_channels, train_labels,\n",
        "    epochs=10,\n",
        "    batch_size=128,\n",
        "    validation_split=0.2)\n",
        "\n",
        "model = get_model()\n",
        "history_zeros = model.fit(\n",
        "    train_images_with_zeros_channels, train_labels,\n",
        "    epochs=10,\n",
        "    batch_size=128,\n",
        "    validation_split=0.2)"
      ]
    },
    {
      "cell_type": "markdown",
      "metadata": {
        "id": "peGMqlbRPzUY"
      },
      "source": [
        "**Plotting a validation accuracy comparison**"
      ]
    },
    {
      "cell_type": "code",
      "execution_count": 3,
      "metadata": {
        "id": "sWHr_ZWyPzUY",
        "outputId": "e2b52984-f369-4ea9-b8ff-90cf2e597d9e",
        "colab": {
          "base_uri": "https://localhost:8080/",
          "height": 313
        }
      },
      "outputs": [
        {
          "output_type": "execute_result",
          "data": {
            "text/plain": [
              "<matplotlib.legend.Legend at 0x7f35d92e1050>"
            ]
          },
          "metadata": {},
          "execution_count": 3
        },
        {
          "output_type": "display_data",
          "data": {
            "text/plain": [
              "<Figure size 432x288 with 1 Axes>"
            ],
            "image/png": "[encoded data removed]"
          },
          "metadata": {
            "needs_background": "light"
          }
        }
      ],
      "source": [
        "import matplotlib.pyplot as plt\n",
        "val_acc_noise = history_noise.history[\"val_accuracy\"]\n",
        "val_acc_zeros = history_zeros.history[\"val_accuracy\"]\n",
        "epochs = range(1, 11)\n",
        "plt.plot(epochs, val_acc_noise, \"b-\",\n",
        "         label=\"Validation accuracy with noise channels\")\n",
        "plt.plot(epochs, val_acc_zeros, \"b--\",\n",
        "         label=\"Validation accuracy with zeros channels\")\n",
        "plt.title(\"Effect of noise channels on validation accuracy\")\n",
        "plt.xlabel(\"Epochs\")\n",
        "plt.ylabel(\"Accuracy\")\n",
        "plt.legend()"
      ]
    },
    {
      "cell_type": "markdown",
      "metadata": {
        "id": "fM6t1IAHPzUY"
      },
      "source": [
        "### The nature of generalization in deep learning"
      ]
    },
    {
      "cell_type": "markdown",
      "metadata": {
        "id": "IZxIpY6bPzUZ"
      },
      "source": [
        "**Fitting a MNIST model with randomly shuffled labels**"
      ]
    },
    {
      "cell_type": "code",
      "execution_count": 4,
      "metadata": {
        "id": "1Cgaz-kLPzUZ",
        "outputId": "f45c491f-174a-4912-f187-e68c28306d58",
        "colab": {
          "base_uri": "https://localhost:8080/"
        }
      },
      "outputs": [
        {
          "output_type": "stream",
          "name": "stdout",
          "text": [
            "Epoch 1/100\n",
            "375/375 [==============================] - 5s 12ms/step - loss: 2.3151 - accuracy: 0.1032 - val_loss: 2.3044 - val_accuracy: 0.1091\n",
            "Epoch 2/100\n",
            "375/375 [==============================] - 5s 12ms/step - loss: 2.3005 - accuracy: 0.1158 - val_loss: 2.3110 - val_accuracy: 0.1032\n",
            "Epoch 3/100\n",
            "375/375 [==============================] - 5s 12ms/step - loss: 2.2907 - accuracy: 0.1249 - val_loss: 2.3131 - val_accuracy: 0.1081\n",
            "Epoch 4/100\n",
            "375/375 [==============================] - 5s 12ms/step - loss: 2.2771 - accuracy: 0.1415 - val_loss: 2.3243 - val_accuracy: 0.1063\n",
            "Epoch 5/100\n",
            "375/375 [==============================] - 4s 12ms/step - loss: 2.2594 - accuracy: 0.1540 - val_loss: 2.3367 - val_accuracy: 0.1041\n",
            "Epoch 6/100\n",
            "375/375 [==============================] - 5s 12ms/step - loss: 2.2378 - accuracy: 0.1701 - val_loss: 2.3498 - val_accuracy: 0.1080\n",
            "Epoch 7/100\n",
            "375/375 [==============================] - 5s 12ms/step - loss: 2.2130 - accuracy: 0.1851 - val_loss: 2.3702 - val_accuracy: 0.0998\n",
            "Epoch 8/100\n",
            "375/375 [==============================] - 5s 12ms/step - loss: 2.1850 - accuracy: 0.1995 - val_loss: 2.3792 - val_accuracy: 0.1025\n",
            "Epoch 9/100\n",
            "375/375 [==============================] - 5s 12ms/step - loss: 2.1557 - accuracy: 0.2189 - val_loss: 2.4062 - val_accuracy: 0.1032\n",
            "Epoch 10/100\n",
            "375/375 [==============================] - 5s 12ms/step - loss: 2.1232 - accuracy: 0.2332 - val_loss: 2.4237 - val_accuracy: 0.1000\n",
            "Epoch 11/100\n",
            "375/375 [==============================] - 5s 13ms/step - loss: 2.0891 - accuracy: 0.2516 - val_loss: 2.4509 - val_accuracy: 0.1021\n",
            "Epoch 12/100\n",
            "375/375 [==============================] - 6s 15ms/step - loss: 2.0569 - accuracy: 0.2636 - val_loss: 2.4781 - val_accuracy: 0.0973\n",
            "Epoch 13/100\n",
            "375/375 [==============================] - 5s 13ms/step - loss: 2.0232 - accuracy: 0.2798 - val_loss: 2.5077 - val_accuracy: 0.1002\n",
            "Epoch 14/100\n",
            "375/375 [==============================] - 5s 13ms/step - loss: 1.9883 - accuracy: 0.2928 - val_loss: 2.5344 - val_accuracy: 0.1018\n",
            "Epoch 15/100\n",
            "375/375 [==============================] - 5s 13ms/step - loss: 1.9533 - accuracy: 0.3066 - val_loss: 2.5726 - val_accuracy: 0.1023\n",
            "Epoch 16/100\n",
            "375/375 [==============================] - 5s 13ms/step - loss: 1.9210 - accuracy: 0.3236 - val_loss: 2.6080 - val_accuracy: 0.0999\n",
            "Epoch 17/100\n",
            "375/375 [==============================] - 5s 13ms/step - loss: 1.8851 - accuracy: 0.3375 - val_loss: 2.6298 - val_accuracy: 0.0992\n",
            "Epoch 18/100\n",
            "375/375 [==============================] - 5s 13ms/step - loss: 1.8511 - accuracy: 0.3520 - val_loss: 2.6756 - val_accuracy: 0.1047\n",
            "Epoch 19/100\n",
            "375/375 [==============================] - 5s 13ms/step - loss: 1.8200 - accuracy: 0.3655 - val_loss: 2.7064 - val_accuracy: 0.1008\n",
            "Epoch 20/100\n",
            "375/375 [==============================] - 5s 13ms/step - loss: 1.7871 - accuracy: 0.3764 - val_loss: 2.7374 - val_accuracy: 0.1021\n",
            "Epoch 21/100\n",
            "375/375 [==============================] - 5s 14ms/step - loss: 1.7574 - accuracy: 0.3877 - val_loss: 2.7842 - val_accuracy: 0.1079\n",
            "Epoch 22/100\n",
            "375/375 [==============================] - 5s 14ms/step - loss: 1.7240 - accuracy: 0.4027 - val_loss: 2.8174 - val_accuracy: 0.1010\n",
            "Epoch 23/100\n",
            "375/375 [==============================] - 5s 14ms/step - loss: 1.6953 - accuracy: 0.4111 - val_loss: 2.8656 - val_accuracy: 0.0997\n",
            "Epoch 24/100\n",
            "375/375 [==============================] - 5s 14ms/step - loss: 1.6645 - accuracy: 0.4236 - val_loss: 2.9125 - val_accuracy: 0.0997\n",
            "Epoch 25/100\n",
            "375/375 [==============================] - 5s 14ms/step - loss: 1.6371 - accuracy: 0.4354 - val_loss: 2.9447 - val_accuracy: 0.1028\n",
            "Epoch 26/100\n",
            "375/375 [==============================] - 5s 14ms/step - loss: 1.6078 - accuracy: 0.4465 - val_loss: 2.9821 - val_accuracy: 0.1083\n",
            "Epoch 27/100\n",
            "375/375 [==============================] - 5s 14ms/step - loss: 1.5791 - accuracy: 0.4572 - val_loss: 3.0169 - val_accuracy: 0.1035\n",
            "Epoch 28/100\n",
            "375/375 [==============================] - 5s 14ms/step - loss: 1.5542 - accuracy: 0.4663 - val_loss: 3.0562 - val_accuracy: 0.1023\n",
            "Epoch 29/100\n",
            "375/375 [==============================] - 5s 13ms/step - loss: 1.5236 - accuracy: 0.4783 - val_loss: 3.1195 - val_accuracy: 0.1017\n",
            "Epoch 30/100\n",
            "375/375 [==============================] - 5s 13ms/step - loss: 1.5011 - accuracy: 0.4847 - val_loss: 3.1453 - val_accuracy: 0.0998\n",
            "Epoch 31/100\n",
            "375/375 [==============================] - 5s 13ms/step - loss: 1.4757 - accuracy: 0.4957 - val_loss: 3.1995 - val_accuracy: 0.1018\n",
            "Epoch 32/100\n",
            "375/375 [==============================] - 5s 13ms/step - loss: 1.4515 - accuracy: 0.5044 - val_loss: 3.2282 - val_accuracy: 0.1000\n",
            "Epoch 33/100\n",
            "375/375 [==============================] - 5s 13ms/step - loss: 1.4292 - accuracy: 0.5110 - val_loss: 3.2929 - val_accuracy: 0.1029\n",
            "Epoch 34/100\n",
            "375/375 [==============================] - 6s 16ms/step - loss: 1.4004 - accuracy: 0.5215 - val_loss: 3.3355 - val_accuracy: 0.1016\n",
            "Epoch 35/100\n",
            "375/375 [==============================] - 5s 14ms/step - loss: 1.3808 - accuracy: 0.5296 - val_loss: 3.4004 - val_accuracy: 0.1013\n",
            "Epoch 36/100\n",
            "375/375 [==============================] - 5s 14ms/step - loss: 1.3586 - accuracy: 0.5354 - val_loss: 3.4412 - val_accuracy: 0.1018\n",
            "Epoch 37/100\n",
            "375/375 [==============================] - 5s 14ms/step - loss: 1.3357 - accuracy: 0.5444 - val_loss: 3.4837 - val_accuracy: 0.1014\n",
            "Epoch 38/100\n",
            "375/375 [==============================] - 5s 14ms/step - loss: 1.3137 - accuracy: 0.5540 - val_loss: 3.5430 - val_accuracy: 0.1037\n",
            "Epoch 39/100\n",
            "375/375 [==============================] - 5s 14ms/step - loss: 1.2922 - accuracy: 0.5599 - val_loss: 3.5971 - val_accuracy: 0.0996\n",
            "Epoch 40/100\n",
            "375/375 [==============================] - 5s 13ms/step - loss: 1.2724 - accuracy: 0.5671 - val_loss: 3.6048 - val_accuracy: 0.0996\n",
            "Epoch 41/100\n",
            "375/375 [==============================] - 5s 14ms/step - loss: 1.2514 - accuracy: 0.5744 - val_loss: 3.7057 - val_accuracy: 0.0987\n",
            "Epoch 42/100\n",
            "375/375 [==============================] - 5s 13ms/step - loss: 1.2323 - accuracy: 0.5837 - val_loss: 3.7315 - val_accuracy: 0.1021\n",
            "Epoch 43/100\n",
            "375/375 [==============================] - 5s 14ms/step - loss: 1.2127 - accuracy: 0.5915 - val_loss: 3.7996 - val_accuracy: 0.1024\n",
            "Epoch 44/100\n",
            "375/375 [==============================] - 5s 13ms/step - loss: 1.1906 - accuracy: 0.5992 - val_loss: 3.8620 - val_accuracy: 0.0990\n",
            "Epoch 45/100\n",
            "375/375 [==============================] - 5s 13ms/step - loss: 1.1737 - accuracy: 0.6035 - val_loss: 3.9007 - val_accuracy: 0.1012\n",
            "Epoch 46/100\n",
            "375/375 [==============================] - 5s 13ms/step - loss: 1.1546 - accuracy: 0.6118 - val_loss: 3.9365 - val_accuracy: 0.0983\n",
            "Epoch 47/100\n",
            "375/375 [==============================] - 5s 13ms/step - loss: 1.1370 - accuracy: 0.6178 - val_loss: 3.9693 - val_accuracy: 0.0998\n",
            "Epoch 48/100\n",
            "375/375 [==============================] - 5s 13ms/step - loss: 1.1218 - accuracy: 0.6232 - val_loss: 4.0461 - val_accuracy: 0.0996\n",
            "Epoch 49/100\n",
            "375/375 [==============================] - 5s 13ms/step - loss: 1.1031 - accuracy: 0.6313 - val_loss: 4.1244 - val_accuracy: 0.1008\n",
            "Epoch 50/100\n",
            "375/375 [==============================] - 5s 13ms/step - loss: 1.0856 - accuracy: 0.6350 - val_loss: 4.1721 - val_accuracy: 0.1013\n",
            "Epoch 51/100\n",
            "375/375 [==============================] - 5s 13ms/step - loss: 1.0673 - accuracy: 0.6426 - val_loss: 4.2265 - val_accuracy: 0.0997\n",
            "Epoch 52/100\n",
            "375/375 [==============================] - 5s 13ms/step - loss: 1.0516 - accuracy: 0.6481 - val_loss: 4.2699 - val_accuracy: 0.1001\n",
            "Epoch 53/100\n",
            "375/375 [==============================] - 5s 14ms/step - loss: 1.0355 - accuracy: 0.6517 - val_loss: 4.3078 - val_accuracy: 0.1005\n",
            "Epoch 54/100\n",
            "375/375 [==============================] - 5s 14ms/step - loss: 1.0196 - accuracy: 0.6599 - val_loss: 4.4022 - val_accuracy: 0.0973\n",
            "Epoch 55/100\n",
            "375/375 [==============================] - 5s 13ms/step - loss: 1.0067 - accuracy: 0.6641 - val_loss: 4.4531 - val_accuracy: 0.1008\n",
            "Epoch 56/100\n",
            "375/375 [==============================] - 5s 13ms/step - loss: 0.9896 - accuracy: 0.6697 - val_loss: 4.5721 - val_accuracy: 0.0993\n",
            "Epoch 57/100\n",
            "375/375 [==============================] - 6s 16ms/step - loss: 0.9766 - accuracy: 0.6729 - val_loss: 4.5626 - val_accuracy: 0.0981\n",
            "Epoch 58/100\n",
            "375/375 [==============================] - 5s 13ms/step - loss: 0.9599 - accuracy: 0.6799 - val_loss: 4.6145 - val_accuracy: 0.1016\n",
            "Epoch 59/100\n",
            "375/375 [==============================] - 5s 13ms/step - loss: 0.9442 - accuracy: 0.6863 - val_loss: 4.7001 - val_accuracy: 0.0995\n",
            "Epoch 60/100\n",
            "375/375 [==============================] - 5s 13ms/step - loss: 0.9312 - accuracy: 0.6906 - val_loss: 4.7478 - val_accuracy: 0.1036\n",
            "Epoch 61/100\n",
            "375/375 [==============================] - 5s 12ms/step - loss: 0.9169 - accuracy: 0.6988 - val_loss: 4.8302 - val_accuracy: 0.1001\n",
            "Epoch 62/100\n",
            "375/375 [==============================] - 5s 12ms/step - loss: 0.9047 - accuracy: 0.6997 - val_loss: 4.8805 - val_accuracy: 0.0988\n",
            "Epoch 63/100\n",
            "375/375 [==============================] - 5s 12ms/step - loss: 0.8906 - accuracy: 0.7056 - val_loss: 4.9223 - val_accuracy: 0.0998\n",
            "Epoch 64/100\n",
            "375/375 [==============================] - 5s 13ms/step - loss: 0.8758 - accuracy: 0.7099 - val_loss: 4.9973 - val_accuracy: 0.0974\n",
            "Epoch 65/100\n",
            "375/375 [==============================] - 5s 12ms/step - loss: 0.8634 - accuracy: 0.7139 - val_loss: 5.0578 - val_accuracy: 0.0993\n",
            "Epoch 66/100\n",
            "375/375 [==============================] - 5s 12ms/step - loss: 0.8501 - accuracy: 0.7170 - val_loss: 5.1368 - val_accuracy: 0.1013\n",
            "Epoch 67/100\n",
            "375/375 [==============================] - 5s 12ms/step - loss: 0.8388 - accuracy: 0.7238 - val_loss: 5.1376 - val_accuracy: 0.1000\n",
            "Epoch 68/100\n",
            "375/375 [==============================] - 5s 12ms/step - loss: 0.8250 - accuracy: 0.7257 - val_loss: 5.2129 - val_accuracy: 0.0984\n",
            "Epoch 69/100\n",
            "375/375 [==============================] - 5s 12ms/step - loss: 0.8136 - accuracy: 0.7313 - val_loss: 5.2934 - val_accuracy: 0.1018\n",
            "Epoch 70/100\n",
            "375/375 [==============================] - 5s 12ms/step - loss: 0.8008 - accuracy: 0.7341 - val_loss: 5.3248 - val_accuracy: 0.1004\n",
            "Epoch 71/100\n",
            "375/375 [==============================] - 5s 13ms/step - loss: 0.7901 - accuracy: 0.7384 - val_loss: 5.4009 - val_accuracy: 0.1020\n",
            "Epoch 72/100\n",
            "375/375 [==============================] - 5s 13ms/step - loss: 0.7786 - accuracy: 0.7430 - val_loss: 5.4999 - val_accuracy: 0.0989\n",
            "Epoch 73/100\n",
            "375/375 [==============================] - 5s 13ms/step - loss: 0.7661 - accuracy: 0.7476 - val_loss: 5.5387 - val_accuracy: 0.1018\n",
            "Epoch 74/100\n",
            "375/375 [==============================] - 5s 13ms/step - loss: 0.7565 - accuracy: 0.7498 - val_loss: 5.6179 - val_accuracy: 0.0978\n",
            "Epoch 75/100\n",
            "375/375 [==============================] - 5s 12ms/step - loss: 0.7461 - accuracy: 0.7552 - val_loss: 5.6630 - val_accuracy: 0.0990\n",
            "Epoch 76/100\n",
            "375/375 [==============================] - 5s 12ms/step - loss: 0.7353 - accuracy: 0.7590 - val_loss: 5.7302 - val_accuracy: 0.0997\n",
            "Epoch 77/100\n",
            "375/375 [==============================] - 5s 13ms/step - loss: 0.7234 - accuracy: 0.7640 - val_loss: 5.7786 - val_accuracy: 0.1013\n",
            "Epoch 78/100\n",
            "375/375 [==============================] - 5s 12ms/step - loss: 0.7156 - accuracy: 0.7648 - val_loss: 5.8540 - val_accuracy: 0.0993\n",
            "Epoch 79/100\n",
            "375/375 [==============================] - 5s 12ms/step - loss: 0.7042 - accuracy: 0.7711 - val_loss: 5.8759 - val_accuracy: 0.0979\n",
            "Epoch 80/100\n",
            "375/375 [==============================] - 6s 16ms/step - loss: 0.6944 - accuracy: 0.7717 - val_loss: 5.9827 - val_accuracy: 0.0985\n",
            "Epoch 81/100\n",
            "375/375 [==============================] - 5s 12ms/step - loss: 0.6824 - accuracy: 0.7757 - val_loss: 5.9878 - val_accuracy: 0.0994\n",
            "Epoch 82/100\n",
            "375/375 [==============================] - 5s 12ms/step - loss: 0.6740 - accuracy: 0.7777 - val_loss: 6.0973 - val_accuracy: 0.1018\n",
            "Epoch 83/100\n",
            "375/375 [==============================] - 5s 12ms/step - loss: 0.6654 - accuracy: 0.7811 - val_loss: 6.2132 - val_accuracy: 0.0993\n",
            "Epoch 84/100\n",
            "375/375 [==============================] - 5s 12ms/step - loss: 0.6560 - accuracy: 0.7865 - val_loss: 6.2567 - val_accuracy: 0.1028\n",
            "Epoch 85/100\n",
            "375/375 [==============================] - 5s 12ms/step - loss: 0.6448 - accuracy: 0.7917 - val_loss: 6.3555 - val_accuracy: 0.1000\n",
            "Epoch 86/100\n",
            "375/375 [==============================] - 5s 12ms/step - loss: 0.6346 - accuracy: 0.7934 - val_loss: 6.3830 - val_accuracy: 0.1008\n",
            "Epoch 87/100\n",
            "375/375 [==============================] - 5s 12ms/step - loss: 0.6315 - accuracy: 0.7923 - val_loss: 6.4299 - val_accuracy: 0.1009\n",
            "Epoch 88/100\n",
            "375/375 [==============================] - 5s 12ms/step - loss: 0.6186 - accuracy: 0.7983 - val_loss: 6.5309 - val_accuracy: 0.1006\n",
            "Epoch 89/100\n",
            "375/375 [==============================] - 5s 12ms/step - loss: 0.6086 - accuracy: 0.8038 - val_loss: 6.5695 - val_accuracy: 0.1037\n",
            "Epoch 90/100\n",
            "375/375 [==============================] - 5s 12ms/step - loss: 0.6025 - accuracy: 0.8017 - val_loss: 6.6202 - val_accuracy: 0.1017\n",
            "Epoch 91/100\n",
            "375/375 [==============================] - 5s 12ms/step - loss: 0.5930 - accuracy: 0.8075 - val_loss: 6.7194 - val_accuracy: 0.1012\n",
            "Epoch 92/100\n",
            "375/375 [==============================] - 5s 12ms/step - loss: 0.5871 - accuracy: 0.8081 - val_loss: 6.8035 - val_accuracy: 0.1000\n",
            "Epoch 93/100\n",
            "375/375 [==============================] - 5s 12ms/step - loss: 0.5789 - accuracy: 0.8098 - val_loss: 6.8177 - val_accuracy: 0.1012\n",
            "Epoch 94/100\n",
            "375/375 [==============================] - 5s 12ms/step - loss: 0.5689 - accuracy: 0.8161 - val_loss: 6.9439 - val_accuracy: 0.1021\n",
            "Epoch 95/100\n",
            "375/375 [==============================] - 5s 12ms/step - loss: 0.5621 - accuracy: 0.8187 - val_loss: 7.0059 - val_accuracy: 0.1023\n",
            "Epoch 96/100\n",
            "375/375 [==============================] - 5s 13ms/step - loss: 0.5538 - accuracy: 0.8213 - val_loss: 7.0725 - val_accuracy: 0.1058\n",
            "Epoch 97/100\n",
            "375/375 [==============================] - 5s 13ms/step - loss: 0.5457 - accuracy: 0.8240 - val_loss: 7.0959 - val_accuracy: 0.0983\n",
            "Epoch 98/100\n",
            "375/375 [==============================] - 5s 13ms/step - loss: 0.5375 - accuracy: 0.8255 - val_loss: 7.1891 - val_accuracy: 0.1024\n",
            "Epoch 99/100\n",
            "375/375 [==============================] - 5s 13ms/step - loss: 0.5320 - accuracy: 0.8276 - val_loss: 7.2593 - val_accuracy: 0.0993\n",
            "Epoch 100/100\n",
            "375/375 [==============================] - 5s 13ms/step - loss: 0.5246 - accuracy: 0.8310 - val_loss: 7.3039 - val_accuracy: 0.1018\n"
          ]
        },
        {
          "output_type": "execute_result",
          "data": {
            "text/plain": [
              "<keras.callbacks.History at 0x7f35dd3c5c10>"
            ]
          },
          "metadata": {},
          "execution_count": 4
        }
      ],
      "source": [
        "(train_images, train_labels), _ = mnist.load_data()\n",
        "train_images = train_images.reshape((60000, 28 * 28))\n",
        "train_images = train_images.astype(\"float32\") / 255\n",
        "\n",
        "random_train_labels = train_labels[:]\n",
        "np.random.shuffle(random_train_labels)\n",
        "\n",
        "model = keras.Sequential([\n",
        "    layers.Dense(512, activation=\"relu\"),\n",
        "    layers.Dense(10, activation=\"softmax\")\n",
        "])\n",
        "model.compile(optimizer=\"rmsprop\",\n",
        "              loss=\"sparse_categorical_crossentropy\",\n",
        "              metrics=[\"accuracy\"])\n",
        "model.fit(train_images, random_train_labels,\n",
        "          epochs=100,\n",
        "          batch_size=128,\n",
        "          validation_split=0.2)"
      ]
    },
    {
      "cell_type": "markdown",
      "metadata": {
        "id": "EIo-vo9pPzUZ"
      },
      "source": [
        "#### The manifold hypothesis"
      ]
    },
    {
      "cell_type": "markdown",
      "metadata": {
        "id": "Iau8aFeqPzUZ"
      },
      "source": [
        "#### Interpolation as a source of generalization"
      ]
    },
    {
      "cell_type": "markdown",
      "metadata": {
        "id": "56wAL0mxPzUa"
      },
      "source": [
        "#### Why deep learning works"
      ]
    },
    {
      "cell_type": "markdown",
      "metadata": {
        "id": "XiAQrxvRPzUa"
      },
      "source": [
        "#### Training data is paramount"
      ]
    },
    {
      "cell_type": "markdown",
      "metadata": {
        "id": "NrX6-D_CPzUa"
      },
      "source": [
        "## Evaluating machine-learning models"
      ]
    },
    {
      "cell_type": "markdown",
      "metadata": {
        "id": "RBBQdKzBPzUa"
      },
      "source": [
        "### Training, validation, and test sets"
      ]
    },
    {
      "cell_type": "markdown",
      "metadata": {
        "id": "b9T-MXN5PzUa"
      },
      "source": [
        "#### Simple hold-out validation"
      ]
    },
    {
      "cell_type": "markdown",
      "metadata": {
        "id": "VVSyWvSPPzUb"
      },
      "source": [
        "#### K-fold validation"
      ]
    },
    {
      "cell_type": "markdown",
      "metadata": {
        "id": "8-hjaW6pPzUb"
      },
      "source": [
        "#### Iterated K-fold validation with shuffling"
      ]
    },
    {
      "cell_type": "markdown",
      "metadata": {
        "id": "y0_31ejRPzUb"
      },
      "source": [
        "### Beating a common-sense baseline"
      ]
    },
    {
      "cell_type": "markdown",
      "metadata": {
        "id": "PlaclTFtPzUb"
      },
      "source": [
        "### Things to keep in mind about model evaluation"
      ]
    },
    {
      "cell_type": "markdown",
      "metadata": {
        "id": "C35dVifrPzUc"
      },
      "source": [
        "## Improving model fit"
      ]
    },
    {
      "cell_type": "markdown",
      "metadata": {
        "id": "uLWN_TPNPzUc"
      },
      "source": [
        "### Tuning key gradient descent parameters"
      ]
    },
    {
      "cell_type": "markdown",
      "metadata": {
        "id": "CZhvoypCPzUc"
      },
      "source": [
        "**Training a MNIST model with an incorrectly high learning rate**"
      ]
    },
    {
      "cell_type": "code",
      "execution_count": 5,
      "metadata": {
        "id": "mAcKM4OgPzUc",
        "outputId": "965fe5c2-bc53-4a11-c123-da9bb2288e55",
        "colab": {
          "base_uri": "https://localhost:8080/"
        }
      },
      "outputs": [
        {
          "output_type": "stream",
          "name": "stdout",
          "text": [
            "Epoch 1/10\n",
            "375/375 [==============================] - 6s 14ms/step - loss: 1018.8551 - accuracy: 0.3508 - val_loss: 2.0268 - val_accuracy: 0.2747\n",
            "Epoch 2/10\n",
            "375/375 [==============================] - 5s 13ms/step - loss: 4.9834 - accuracy: 0.2305 - val_loss: 3.7697 - val_accuracy: 0.2794\n",
            "Epoch 3/10\n",
            "375/375 [==============================] - 5s 12ms/step - loss: 4.0885 - accuracy: 0.2299 - val_loss: 2.5127 - val_accuracy: 0.2450\n",
            "Epoch 4/10\n",
            "375/375 [==============================] - 6s 15ms/step - loss: 2.7417 - accuracy: 0.2233 - val_loss: 2.3191 - val_accuracy: 0.2085\n",
            "Epoch 5/10\n",
            "375/375 [==============================] - 5s 12ms/step - loss: 2.4913 - accuracy: 0.2268 - val_loss: 2.1107 - val_accuracy: 0.2127\n",
            "Epoch 6/10\n",
            "375/375 [==============================] - 5s 12ms/step - loss: 2.8273 - accuracy: 0.2246 - val_loss: 2.2572 - val_accuracy: 0.2757\n",
            "Epoch 7/10\n",
            "375/375 [==============================] - 5s 12ms/step - loss: 2.5052 - accuracy: 0.2539 - val_loss: 2.7124 - val_accuracy: 0.2288\n",
            "Epoch 8/10\n",
            "375/375 [==============================] - 5s 12ms/step - loss: 2.4413 - accuracy: 0.2307 - val_loss: 2.3327 - val_accuracy: 0.2428\n",
            "Epoch 9/10\n",
            "375/375 [==============================] - 5s 12ms/step - loss: 2.6662 - accuracy: 0.2571 - val_loss: 2.7459 - val_accuracy: 0.2903\n",
            "Epoch 10/10\n",
            "375/375 [==============================] - 5s 12ms/step - loss: 2.5625 - accuracy: 0.2450 - val_loss: 2.2470 - val_accuracy: 0.2358\n"
          ]
        },
        {
          "output_type": "execute_result",
          "data": {
            "text/plain": [
              "<keras.callbacks.History at 0x7f35d9ab7a90>"
            ]
          },
          "metadata": {},
          "execution_count": 5
        }
      ],
      "source": [
        "(train_images, train_labels), _ = mnist.load_data()\n",
        "train_images = train_images.reshape((60000, 28 * 28))\n",
        "train_images = train_images.astype(\"float32\") / 255\n",
        "\n",
        "model = keras.Sequential([\n",
        "    layers.Dense(512, activation=\"relu\"),\n",
        "    layers.Dense(10, activation=\"softmax\")\n",
        "])\n",
        "model.compile(optimizer=keras.optimizers.RMSprop(1.),\n",
        "              loss=\"sparse_categorical_crossentropy\",\n",
        "              metrics=[\"accuracy\"])\n",
        "model.fit(train_images, train_labels,\n",
        "          epochs=10,\n",
        "          batch_size=128,\n",
        "          validation_split=0.2)"
      ]
    },
    {
      "cell_type": "markdown",
      "metadata": {
        "id": "Jj95T0yGPzUc"
      },
      "source": [
        "**The same model with a more appropriate learning rate**"
      ]
    },
    {
      "cell_type": "code",
      "execution_count": 6,
      "metadata": {
        "id": "IvE1WfnRPzUd",
        "outputId": "3640ddd1-0b74-4f63-84e8-889f6749925e",
        "colab": {
          "base_uri": "https://localhost:8080/"
        }
      },
      "outputs": [
        {
          "output_type": "stream",
          "name": "stdout",
          "text": [
            "Epoch 1/10\n",
            "375/375 [==============================] - 5s 12ms/step - loss: 0.3572 - accuracy: 0.9129 - val_loss: 0.1738 - val_accuracy: 0.9529\n",
            "Epoch 2/10\n",
            "375/375 [==============================] - 5s 12ms/step - loss: 0.1409 - accuracy: 0.9629 - val_loss: 0.1509 - val_accuracy: 0.9631\n",
            "Epoch 3/10\n",
            "375/375 [==============================] - 5s 12ms/step - loss: 0.1145 - accuracy: 0.9732 - val_loss: 0.1956 - val_accuracy: 0.9657\n",
            "Epoch 4/10\n",
            "375/375 [==============================] - 5s 12ms/step - loss: 0.1020 - accuracy: 0.9778 - val_loss: 0.2246 - val_accuracy: 0.9665\n",
            "Epoch 5/10\n",
            "375/375 [==============================] - 5s 12ms/step - loss: 0.0866 - accuracy: 0.9820 - val_loss: 0.2075 - val_accuracy: 0.9733\n",
            "Epoch 6/10\n",
            "375/375 [==============================] - 5s 12ms/step - loss: 0.0810 - accuracy: 0.9835 - val_loss: 0.2110 - val_accuracy: 0.9718\n",
            "Epoch 7/10\n",
            "375/375 [==============================] - 5s 12ms/step - loss: 0.0793 - accuracy: 0.9854 - val_loss: 0.2566 - val_accuracy: 0.9728\n",
            "Epoch 8/10\n",
            "375/375 [==============================] - 5s 12ms/step - loss: 0.0667 - accuracy: 0.9884 - val_loss: 0.2377 - val_accuracy: 0.9743\n",
            "Epoch 9/10\n",
            "375/375 [==============================] - 5s 12ms/step - loss: 0.0627 - accuracy: 0.9896 - val_loss: 0.2883 - val_accuracy: 0.9757\n",
            "Epoch 10/10\n",
            "375/375 [==============================] - 5s 12ms/step - loss: 0.0633 - accuracy: 0.9903 - val_loss: 0.3301 - val_accuracy: 0.9712\n"
          ]
        },
        {
          "output_type": "execute_result",
          "data": {
            "text/plain": [
              "<keras.callbacks.History at 0x7f35da304f10>"
            ]
          },
          "metadata": {},
          "execution_count": 6
        }
      ],
      "source": [
        "model = keras.Sequential([\n",
        "    layers.Dense(512, activation=\"relu\"),\n",
        "    layers.Dense(10, activation=\"softmax\")\n",
        "])\n",
        "model.compile(optimizer=keras.optimizers.RMSprop(1e-2),\n",
        "              loss=\"sparse_categorical_crossentropy\",\n",
        "              metrics=[\"accuracy\"])\n",
        "model.fit(train_images, train_labels,\n",
        "          epochs=10,\n",
        "          batch_size=128,\n",
        "          validation_split=0.2)"
      ]
    },
    {
      "cell_type": "markdown",
      "metadata": {
        "id": "Bp2eL0uNPzUd"
      },
      "source": [
        "### Leveraging better architecture priors"
      ]
    },
    {
      "cell_type": "markdown",
      "metadata": {
        "id": "NXcqkzoePzUd"
      },
      "source": [
        "### Increasing model capacity"
      ]
    },
    {
      "cell_type": "markdown",
      "metadata": {
        "id": "-SOLg6K7PzUd"
      },
      "source": [
        "**A simple logistic regression on MNIST**"
      ]
    },
    {
      "cell_type": "code",
      "execution_count": 7,
      "metadata": {
        "id": "NrnUVMAwPzUd",
        "outputId": "dc628867-d13f-41d9-e605-deff0cb21a4f",
        "colab": {
          "base_uri": "https://localhost:8080/"
        }
      },
      "outputs": [
        {
          "output_type": "stream",
          "name": "stdout",
          "text": [
            "Epoch 1/20\n",
            "375/375 [==============================] - 2s 4ms/step - loss: 0.6797 - accuracy: 0.8308 - val_loss: 0.3598 - val_accuracy: 0.9034\n",
            "Epoch 2/20\n",
            "375/375 [==============================] - 1s 4ms/step - loss: 0.3520 - accuracy: 0.9029 - val_loss: 0.3081 - val_accuracy: 0.9157\n",
            "Epoch 3/20\n",
            "375/375 [==============================] - 1s 3ms/step - loss: 0.3161 - accuracy: 0.9126 - val_loss: 0.2910 - val_accuracy: 0.9187\n",
            "Epoch 4/20\n",
            "375/375 [==============================] - 1s 4ms/step - loss: 0.2995 - accuracy: 0.9168 - val_loss: 0.2820 - val_accuracy: 0.9213\n",
            "Epoch 5/20\n",
            "375/375 [==============================] - 1s 3ms/step - loss: 0.2900 - accuracy: 0.9197 - val_loss: 0.2772 - val_accuracy: 0.9228\n",
            "Epoch 6/20\n",
            "375/375 [==============================] - 1s 3ms/step - loss: 0.2833 - accuracy: 0.9209 - val_loss: 0.2722 - val_accuracy: 0.9243\n",
            "Epoch 7/20\n",
            "375/375 [==============================] - 1s 3ms/step - loss: 0.2782 - accuracy: 0.9221 - val_loss: 0.2691 - val_accuracy: 0.9262\n",
            "Epoch 8/20\n",
            "375/375 [==============================] - 1s 4ms/step - loss: 0.2745 - accuracy: 0.9237 - val_loss: 0.2669 - val_accuracy: 0.9270\n",
            "Epoch 9/20\n",
            "375/375 [==============================] - 1s 3ms/step - loss: 0.2710 - accuracy: 0.9245 - val_loss: 0.2669 - val_accuracy: 0.9260\n",
            "Epoch 10/20\n",
            "375/375 [==============================] - 1s 3ms/step - loss: 0.2689 - accuracy: 0.9255 - val_loss: 0.2650 - val_accuracy: 0.9292\n",
            "Epoch 11/20\n",
            "375/375 [==============================] - 1s 3ms/step - loss: 0.2667 - accuracy: 0.9261 - val_loss: 0.2643 - val_accuracy: 0.9293\n",
            "Epoch 12/20\n",
            "375/375 [==============================] - 1s 3ms/step - loss: 0.2648 - accuracy: 0.9271 - val_loss: 0.2626 - val_accuracy: 0.9290\n",
            "Epoch 13/20\n",
            "375/375 [==============================] - 1s 3ms/step - loss: 0.2632 - accuracy: 0.9276 - val_loss: 0.2632 - val_accuracy: 0.9291\n",
            "Epoch 14/20\n",
            "375/375 [==============================] - 1s 3ms/step - loss: 0.2617 - accuracy: 0.9284 - val_loss: 0.2639 - val_accuracy: 0.9298\n",
            "Epoch 15/20\n",
            "375/375 [==============================] - 1s 4ms/step - loss: 0.2606 - accuracy: 0.9283 - val_loss: 0.2617 - val_accuracy: 0.9301\n",
            "Epoch 16/20\n",
            "375/375 [==============================] - 1s 3ms/step - loss: 0.2595 - accuracy: 0.9288 - val_loss: 0.2621 - val_accuracy: 0.9301\n",
            "Epoch 17/20\n",
            "375/375 [==============================] - 1s 4ms/step - loss: 0.2582 - accuracy: 0.9293 - val_loss: 0.2630 - val_accuracy: 0.9285\n",
            "Epoch 18/20\n",
            "375/375 [==============================] - 1s 3ms/step - loss: 0.2573 - accuracy: 0.9294 - val_loss: 0.2604 - val_accuracy: 0.9312\n",
            "Epoch 19/20\n",
            "375/375 [==============================] - 1s 4ms/step - loss: 0.2563 - accuracy: 0.9300 - val_loss: 0.2617 - val_accuracy: 0.9303\n",
            "Epoch 20/20\n",
            "375/375 [==============================] - 1s 4ms/step - loss: 0.2555 - accuracy: 0.9309 - val_loss: 0.2619 - val_accuracy: 0.9302\n"
          ]
        }
      ],
      "source": [
        "model = keras.Sequential([layers.Dense(10, activation=\"softmax\")])\n",
        "model.compile(optimizer=\"rmsprop\",\n",
        "              loss=\"sparse_categorical_crossentropy\",\n",
        "              metrics=[\"accuracy\"])\n",
        "history_small_model = model.fit(\n",
        "    train_images, train_labels,\n",
        "    epochs=20,\n",
        "    batch_size=128,\n",
        "    validation_split=0.2)"
      ]
    },
    {
      "cell_type": "code",
      "execution_count": 8,
      "metadata": {
        "id": "RqsxBlWmPzUe",
        "outputId": "7a7fc0f1-3415-4068-c4c6-9c225c0a2db6",
        "colab": {
          "base_uri": "https://localhost:8080/",
          "height": 313
        }
      },
      "outputs": [
        {
          "output_type": "execute_result",
          "data": {
            "text/plain": [
              "<matplotlib.legend.Legend at 0x7f35d97da290>"
            ]
          },
          "metadata": {},
          "execution_count": 8
        },
        {
          "output_type": "display_data",
          "data": {
            "text/plain": [
              "<Figure size 432x288 with 1 Axes>"
            ],
            "image/png": "[encoded data removed]"
          },
          "metadata": {
            "needs_background": "light"
          }
        }
      ],
      "source": [
        "import matplotlib.pyplot as plt\n",
        "val_loss = history_small_model.history[\"val_loss\"]\n",
        "epochs = range(1, 21)\n",
        "plt.plot(epochs, val_loss, \"b--\",\n",
        "         label=\"Validation loss\")\n",
        "plt.title(\"Effect of insufficient model capacity on validation loss\")\n",
        "plt.xlabel(\"Epochs\")\n",
        "plt.ylabel(\"Loss\")\n",
        "plt.legend()"
      ]
    },
    {
      "cell_type": "code",
      "execution_count": 9,
      "metadata": {
        "id": "N0650_h3PzUe",
        "outputId": "7d68a563-4a4a-4844-9f16-ea4ece9f9d94",
        "colab": {
          "base_uri": "https://localhost:8080/"
        }
      },
      "outputs": [
        {
          "output_type": "stream",
          "name": "stdout",
          "text": [
            "Epoch 1/20\n",
            "375/375 [==============================] - 3s 6ms/step - loss: 0.3658 - accuracy: 0.8947 - val_loss: 0.1933 - val_accuracy: 0.9436\n",
            "Epoch 2/20\n",
            "375/375 [==============================] - 2s 6ms/step - loss: 0.1650 - accuracy: 0.9518 - val_loss: 0.1453 - val_accuracy: 0.9568\n",
            "Epoch 3/20\n",
            "375/375 [==============================] - 2s 6ms/step - loss: 0.1147 - accuracy: 0.9657 - val_loss: 0.1149 - val_accuracy: 0.9667\n",
            "Epoch 4/20\n",
            "375/375 [==============================] - 2s 6ms/step - loss: 0.0871 - accuracy: 0.9739 - val_loss: 0.1024 - val_accuracy: 0.9698\n",
            "Epoch 5/20\n",
            "375/375 [==============================] - 2s 6ms/step - loss: 0.0707 - accuracy: 0.9785 - val_loss: 0.0991 - val_accuracy: 0.9709\n",
            "Epoch 6/20\n",
            "375/375 [==============================] - 2s 6ms/step - loss: 0.0568 - accuracy: 0.9828 - val_loss: 0.0991 - val_accuracy: 0.9714\n",
            "Epoch 7/20\n",
            "375/375 [==============================] - 2s 6ms/step - loss: 0.0479 - accuracy: 0.9852 - val_loss: 0.0970 - val_accuracy: 0.9733\n",
            "Epoch 8/20\n",
            "375/375 [==============================] - 2s 6ms/step - loss: 0.0393 - accuracy: 0.9880 - val_loss: 0.0997 - val_accuracy: 0.9740\n",
            "Epoch 9/20\n",
            "375/375 [==============================] - 2s 6ms/step - loss: 0.0333 - accuracy: 0.9899 - val_loss: 0.0945 - val_accuracy: 0.9751\n",
            "Epoch 10/20\n",
            "375/375 [==============================] - 2s 6ms/step - loss: 0.0287 - accuracy: 0.9911 - val_loss: 0.0967 - val_accuracy: 0.9770\n",
            "Epoch 11/20\n",
            "375/375 [==============================] - 2s 6ms/step - loss: 0.0234 - accuracy: 0.9927 - val_loss: 0.1095 - val_accuracy: 0.9743\n",
            "Epoch 12/20\n",
            "375/375 [==============================] - 2s 6ms/step - loss: 0.0203 - accuracy: 0.9936 - val_loss: 0.1102 - val_accuracy: 0.9751\n",
            "Epoch 13/20\n",
            "375/375 [==============================] - 2s 6ms/step - loss: 0.0178 - accuracy: 0.9946 - val_loss: 0.1097 - val_accuracy: 0.9762\n",
            "Epoch 14/20\n",
            "375/375 [==============================] - 2s 6ms/step - loss: 0.0147 - accuracy: 0.9955 - val_loss: 0.1120 - val_accuracy: 0.9758\n",
            "Epoch 15/20\n",
            "375/375 [==============================] - 2s 6ms/step - loss: 0.0124 - accuracy: 0.9963 - val_loss: 0.1156 - val_accuracy: 0.9766\n",
            "Epoch 16/20\n",
            "375/375 [==============================] - 2s 6ms/step - loss: 0.0102 - accuracy: 0.9968 - val_loss: 0.1243 - val_accuracy: 0.9746\n",
            "Epoch 17/20\n",
            "375/375 [==============================] - 2s 6ms/step - loss: 0.0086 - accuracy: 0.9973 - val_loss: 0.1196 - val_accuracy: 0.9773\n",
            "Epoch 18/20\n",
            "375/375 [==============================] - 2s 6ms/step - loss: 0.0077 - accuracy: 0.9975 - val_loss: 0.1318 - val_accuracy: 0.9752\n",
            "Epoch 19/20\n",
            "375/375 [==============================] - 2s 6ms/step - loss: 0.0071 - accuracy: 0.9978 - val_loss: 0.1328 - val_accuracy: 0.9757\n",
            "Epoch 20/20\n",
            "375/375 [==============================] - 2s 6ms/step - loss: 0.0058 - accuracy: 0.9981 - val_loss: 0.1248 - val_accuracy: 0.9779\n"
          ]
        }
      ],
      "source": [
        "model = keras.Sequential([\n",
        "    layers.Dense(96, activation=\"relu\"),\n",
        "    layers.Dense(96, activation=\"relu\"),\n",
        "    layers.Dense(10, activation=\"softmax\"),\n",
        "])\n",
        "model.compile(optimizer=\"rmsprop\",\n",
        "              loss=\"sparse_categorical_crossentropy\",\n",
        "              metrics=[\"accuracy\"])\n",
        "history_large_model = model.fit(\n",
        "    train_images, train_labels,\n",
        "    epochs=20,\n",
        "    batch_size=128,\n",
        "    validation_split=0.2)"
      ]
    },
    {
      "cell_type": "markdown",
      "metadata": {
        "id": "2-IJ5FTNPzUe"
      },
      "source": [
        "## Improving generalization"
      ]
    },
    {
      "cell_type": "markdown",
      "metadata": {
        "id": "Dz0buLObPzUe"
      },
      "source": [
        "### Dataset curation"
      ]
    },
    {
      "cell_type": "markdown",
      "metadata": {
        "id": "Do8w8GdfPzUe"
      },
      "source": [
        "### Feature engineering"
      ]
    },
    {
      "cell_type": "markdown",
      "metadata": {
        "id": "CA-hcVmvPzUe"
      },
      "source": [
        "### Using early stopping"
      ]
    },
    {
      "cell_type": "markdown",
      "metadata": {
        "id": "KvMPoNAJPzUf"
      },
      "source": [
        "### Regularizing your model"
      ]
    },
    {
      "cell_type": "markdown",
      "metadata": {
        "id": "acJ6GrbqPzUf"
      },
      "source": [
        "#### Reducing the network's size"
      ]
    },
    {
      "cell_type": "markdown",
      "metadata": {
        "id": "kuwne3S8PzUf"
      },
      "source": [
        "**Original model**"
      ]
    },
    {
      "cell_type": "code",
      "execution_count": 10,
      "metadata": {
        "id": "fJxSHcDhPzUf",
        "outputId": "50b3e2cf-23c1-4fd0-dd32-9b3df8a1174d",
        "colab": {
          "base_uri": "https://localhost:8080/"
        }
      },
      "outputs": [
        {
          "output_type": "stream",
          "name": "stdout",
          "text": [
            "Downloading data from https://storage.googleapis.com/tensorflow/tf-keras-datasets/imdb.npz\n",
            "17464789/17464789 [==============================] - 0s 0us/step\n",
            "Epoch 1/20\n",
            "30/30 [==============================] - 3s 83ms/step - loss: 0.4988 - accuracy: 0.7973 - val_loss: 0.3930 - val_accuracy: 0.8477\n",
            "Epoch 2/20\n",
            "30/30 [==============================] - 2s 67ms/step - loss: 0.2958 - accuracy: 0.9014 - val_loss: 0.2987 - val_accuracy: 0.8879\n",
            "Epoch 3/20\n",
            "30/30 [==============================] - 1s 41ms/step - loss: 0.2146 - accuracy: 0.9289 - val_loss: 0.2755 - val_accuracy: 0.8921\n",
            "Epoch 4/20\n",
            "30/30 [==============================] - 1s 39ms/step - loss: 0.1736 - accuracy: 0.9425 - val_loss: 0.2853 - val_accuracy: 0.8849\n",
            "Epoch 5/20\n",
            "30/30 [==============================] - 1s 38ms/step - loss: 0.1397 - accuracy: 0.9555 - val_loss: 0.3375 - val_accuracy: 0.8671\n",
            "Epoch 6/20\n",
            "30/30 [==============================] - 1s 38ms/step - loss: 0.1177 - accuracy: 0.9637 - val_loss: 0.2980 - val_accuracy: 0.8854\n",
            "Epoch 7/20\n",
            "30/30 [==============================] - 1s 38ms/step - loss: 0.0976 - accuracy: 0.9707 - val_loss: 0.3204 - val_accuracy: 0.8813\n",
            "Epoch 8/20\n",
            "30/30 [==============================] - 2s 55ms/step - loss: 0.0835 - accuracy: 0.9760 - val_loss: 0.3357 - val_accuracy: 0.8831\n",
            "Epoch 9/20\n",
            "30/30 [==============================] - 2s 67ms/step - loss: 0.0708 - accuracy: 0.9801 - val_loss: 0.3598 - val_accuracy: 0.8806\n",
            "Epoch 10/20\n",
            "30/30 [==============================] - 1s 40ms/step - loss: 0.0569 - accuracy: 0.9857 - val_loss: 0.3868 - val_accuracy: 0.8777\n",
            "Epoch 11/20\n",
            "30/30 [==============================] - 1s 38ms/step - loss: 0.0485 - accuracy: 0.9881 - val_loss: 0.4259 - val_accuracy: 0.8712\n",
            "Epoch 12/20\n",
            "30/30 [==============================] - 1s 37ms/step - loss: 0.0416 - accuracy: 0.9890 - val_loss: 0.4522 - val_accuracy: 0.8733\n",
            "Epoch 13/20\n",
            "30/30 [==============================] - 1s 37ms/step - loss: 0.0317 - accuracy: 0.9936 - val_loss: 0.4812 - val_accuracy: 0.8701\n",
            "Epoch 14/20\n",
            "30/30 [==============================] - 1s 38ms/step - loss: 0.0294 - accuracy: 0.9935 - val_loss: 0.5134 - val_accuracy: 0.8687\n",
            "Epoch 15/20\n",
            "30/30 [==============================] - 1s 38ms/step - loss: 0.0243 - accuracy: 0.9939 - val_loss: 0.5404 - val_accuracy: 0.8680\n",
            "Epoch 16/20\n",
            "30/30 [==============================] - 1s 37ms/step - loss: 0.0151 - accuracy: 0.9980 - val_loss: 0.6197 - val_accuracy: 0.8590\n",
            "Epoch 17/20\n",
            "30/30 [==============================] - 1s 37ms/step - loss: 0.0158 - accuracy: 0.9975 - val_loss: 0.6046 - val_accuracy: 0.8653\n",
            "Epoch 18/20\n",
            "30/30 [==============================] - 1s 37ms/step - loss: 0.0127 - accuracy: 0.9981 - val_loss: 0.6365 - val_accuracy: 0.8653\n",
            "Epoch 19/20\n",
            "30/30 [==============================] - 1s 37ms/step - loss: 0.0106 - accuracy: 0.9978 - val_loss: 0.6793 - val_accuracy: 0.8641\n",
            "Epoch 20/20\n",
            "30/30 [==============================] - 1s 41ms/step - loss: 0.0058 - accuracy: 0.9996 - val_loss: 0.7259 - val_accuracy: 0.8604\n"
          ]
        }
      ],
      "source": [
        "from tensorflow.keras.datasets import imdb\n",
        "(train_data, train_labels), _ = imdb.load_data(num_words=10000)\n",
        "\n",
        "def vectorize_sequences(sequences, dimension=10000):\n",
        "    results = np.zeros((len(sequences), dimension))\n",
        "    for i, sequence in enumerate(sequences):\n",
        "        results[i, sequence] = 1.\n",
        "    return results\n",
        "train_data = vectorize_sequences(train_data)\n",
        "\n",
        "model = keras.Sequential([\n",
        "    layers.Dense(16, activation=\"relu\"),\n",
        "    layers.Dense(16, activation=\"relu\"),\n",
        "    layers.Dense(1, activation=\"sigmoid\")\n",
        "])\n",
        "model.compile(optimizer=\"rmsprop\",\n",
        "              loss=\"binary_crossentropy\",\n",
        "              metrics=[\"accuracy\"])\n",
        "history_original = model.fit(train_data, train_labels,\n",
        "                             epochs=20, batch_size=512, validation_split=0.4)"
      ]
    },
    {
      "cell_type": "markdown",
      "metadata": {
        "id": "vK9BCqEmPzUf"
      },
      "source": [
        "**Version of the model with lower capacity**"
      ]
    },
    {
      "cell_type": "code",
      "execution_count": 11,
      "metadata": {
        "id": "Z8tX9kGMPzUf",
        "outputId": "d5892ccc-e6e9-49fc-978b-3d0d5306aad2",
        "colab": {
          "base_uri": "https://localhost:8080/"
        }
      },
      "outputs": [
        {
          "output_type": "stream",
          "name": "stdout",
          "text": [
            "Epoch 1/20\n",
            "30/30 [==============================] - 2s 44ms/step - loss: 0.5893 - accuracy: 0.7337 - val_loss: 0.4842 - val_accuracy: 0.8442\n",
            "Epoch 2/20\n",
            "30/30 [==============================] - 1s 36ms/step - loss: 0.4108 - accuracy: 0.8822 - val_loss: 0.3798 - val_accuracy: 0.8728\n",
            "Epoch 3/20\n",
            "30/30 [==============================] - 1s 38ms/step - loss: 0.3139 - accuracy: 0.9105 - val_loss: 0.3269 - val_accuracy: 0.8880\n",
            "Epoch 4/20\n",
            "30/30 [==============================] - 1s 34ms/step - loss: 0.2530 - accuracy: 0.9285 - val_loss: 0.2986 - val_accuracy: 0.8905\n",
            "Epoch 5/20\n",
            "30/30 [==============================] - 1s 34ms/step - loss: 0.2124 - accuracy: 0.9381 - val_loss: 0.2828 - val_accuracy: 0.8901\n",
            "Epoch 6/20\n",
            "30/30 [==============================] - 1s 34ms/step - loss: 0.1822 - accuracy: 0.9461 - val_loss: 0.2764 - val_accuracy: 0.8906\n",
            "Epoch 7/20\n",
            "30/30 [==============================] - 1s 34ms/step - loss: 0.1597 - accuracy: 0.9529 - val_loss: 0.2774 - val_accuracy: 0.8897\n",
            "Epoch 8/20\n",
            "30/30 [==============================] - 1s 36ms/step - loss: 0.1404 - accuracy: 0.9603 - val_loss: 0.2840 - val_accuracy: 0.8871\n",
            "Epoch 9/20\n",
            "30/30 [==============================] - 1s 37ms/step - loss: 0.1248 - accuracy: 0.9649 - val_loss: 0.2870 - val_accuracy: 0.8867\n",
            "Epoch 10/20\n",
            "30/30 [==============================] - 1s 37ms/step - loss: 0.1120 - accuracy: 0.9685 - val_loss: 0.2889 - val_accuracy: 0.8863\n",
            "Epoch 11/20\n",
            "30/30 [==============================] - 1s 37ms/step - loss: 0.0989 - accuracy: 0.9743 - val_loss: 0.2985 - val_accuracy: 0.8861\n",
            "Epoch 12/20\n",
            "30/30 [==============================] - 1s 37ms/step - loss: 0.0888 - accuracy: 0.9768 - val_loss: 0.3153 - val_accuracy: 0.8827\n",
            "Epoch 13/20\n",
            "30/30 [==============================] - 1s 34ms/step - loss: 0.0792 - accuracy: 0.9797 - val_loss: 0.3220 - val_accuracy: 0.8834\n",
            "Epoch 14/20\n",
            "30/30 [==============================] - 1s 34ms/step - loss: 0.0710 - accuracy: 0.9828 - val_loss: 0.3479 - val_accuracy: 0.8781\n",
            "Epoch 15/20\n",
            "30/30 [==============================] - 1s 35ms/step - loss: 0.0624 - accuracy: 0.9865 - val_loss: 0.3494 - val_accuracy: 0.8816\n",
            "Epoch 16/20\n",
            "30/30 [==============================] - 1s 34ms/step - loss: 0.0558 - accuracy: 0.9881 - val_loss: 0.3759 - val_accuracy: 0.8773\n",
            "Epoch 17/20\n",
            "30/30 [==============================] - 1s 35ms/step - loss: 0.0500 - accuracy: 0.9888 - val_loss: 0.3805 - val_accuracy: 0.8788\n",
            "Epoch 18/20\n",
            "30/30 [==============================] - 1s 35ms/step - loss: 0.0444 - accuracy: 0.9907 - val_loss: 0.3989 - val_accuracy: 0.8772\n",
            "Epoch 19/20\n",
            "30/30 [==============================] - 1s 34ms/step - loss: 0.0387 - accuracy: 0.9926 - val_loss: 0.4149 - val_accuracy: 0.8742\n",
            "Epoch 20/20\n",
            "30/30 [==============================] - 1s 34ms/step - loss: 0.0341 - accuracy: 0.9934 - val_loss: 0.4344 - val_accuracy: 0.8736\n"
          ]
        }
      ],
      "source": [
        "model = keras.Sequential([\n",
        "    layers.Dense(4, activation=\"relu\"),\n",
        "    layers.Dense(4, activation=\"relu\"),\n",
        "    layers.Dense(1, activation=\"sigmoid\")\n",
        "])\n",
        "model.compile(optimizer=\"rmsprop\",\n",
        "              loss=\"binary_crossentropy\",\n",
        "              metrics=[\"accuracy\"])\n",
        "history_smaller_model = model.fit(\n",
        "    train_data, train_labels,\n",
        "    epochs=20, batch_size=512, validation_split=0.4)"
      ]
    },
    {
      "cell_type": "markdown",
      "metadata": {
        "id": "PZsXbdU5PzUg"
      },
      "source": [
        "**Version of the model with higher capacity**"
      ]
    },
    {
      "cell_type": "code",
      "execution_count": 12,
      "metadata": {
        "id": "HYqHnnvEPzUg",
        "outputId": "234cd975-6ebb-4454-f650-94f09e03deb3",
        "colab": {
          "base_uri": "https://localhost:8080/"
        }
      },
      "outputs": [
        {
          "output_type": "stream",
          "name": "stdout",
          "text": [
            "Epoch 1/20\n",
            "30/30 [==============================] - 10s 317ms/step - loss: 0.5378 - accuracy: 0.7527 - val_loss: 0.3212 - val_accuracy: 0.8843\n",
            "Epoch 2/20\n",
            "30/30 [==============================] - 9s 304ms/step - loss: 0.2428 - accuracy: 0.9055 - val_loss: 0.2665 - val_accuracy: 0.8912\n",
            "Epoch 3/20\n",
            "30/30 [==============================] - 9s 304ms/step - loss: 0.1435 - accuracy: 0.9460 - val_loss: 0.2855 - val_accuracy: 0.8914\n",
            "Epoch 4/20\n",
            "30/30 [==============================] - 9s 307ms/step - loss: 0.0831 - accuracy: 0.9716 - val_loss: 0.3605 - val_accuracy: 0.8882\n",
            "Epoch 5/20\n",
            "30/30 [==============================] - 9s 305ms/step - loss: 0.1337 - accuracy: 0.9757 - val_loss: 0.3386 - val_accuracy: 0.8899\n",
            "Epoch 6/20\n",
            "30/30 [==============================] - 9s 306ms/step - loss: 0.0053 - accuracy: 0.9996 - val_loss: 0.4771 - val_accuracy: 0.8900\n",
            "Epoch 7/20\n",
            "30/30 [==============================] - 9s 304ms/step - loss: 9.4005e-04 - accuracy: 1.0000 - val_loss: 0.6139 - val_accuracy: 0.8866\n",
            "Epoch 8/20\n",
            "30/30 [==============================] - 9s 305ms/step - loss: 1.4945e-04 - accuracy: 1.0000 - val_loss: 0.7321 - val_accuracy: 0.8874\n",
            "Epoch 9/20\n",
            "30/30 [==============================] - 10s 347ms/step - loss: 0.0486 - accuracy: 0.9959 - val_loss: 2.4982 - val_accuracy: 0.7519\n",
            "Epoch 10/20\n",
            "30/30 [==============================] - 9s 303ms/step - loss: 0.0238 - accuracy: 0.9948 - val_loss: 0.6683 - val_accuracy: 0.8849\n",
            "Epoch 11/20\n",
            "30/30 [==============================] - 9s 306ms/step - loss: 3.5400e-05 - accuracy: 1.0000 - val_loss: 0.7259 - val_accuracy: 0.8860\n",
            "Epoch 12/20\n",
            "30/30 [==============================] - 9s 307ms/step - loss: 1.7046e-05 - accuracy: 1.0000 - val_loss: 0.7821 - val_accuracy: 0.8855\n",
            "Epoch 13/20\n",
            "30/30 [==============================] - 9s 306ms/step - loss: 8.1444e-06 - accuracy: 1.0000 - val_loss: 0.8526 - val_accuracy: 0.8859\n",
            "Epoch 14/20\n",
            "30/30 [==============================] - 9s 310ms/step - loss: 3.4065e-06 - accuracy: 1.0000 - val_loss: 0.9236 - val_accuracy: 0.8852\n",
            "Epoch 15/20\n",
            "30/30 [==============================] - 9s 319ms/step - loss: 1.3150e-06 - accuracy: 1.0000 - val_loss: 1.0059 - val_accuracy: 0.8850\n",
            "Epoch 16/20\n",
            "30/30 [==============================] - 9s 316ms/step - loss: 4.9954e-07 - accuracy: 1.0000 - val_loss: 1.0829 - val_accuracy: 0.8848\n",
            "Epoch 17/20\n",
            "30/30 [==============================] - 9s 315ms/step - loss: 1.9164e-07 - accuracy: 1.0000 - val_loss: 1.1564 - val_accuracy: 0.8850\n",
            "Epoch 18/20\n",
            "30/30 [==============================] - 9s 308ms/step - loss: 7.7874e-08 - accuracy: 1.0000 - val_loss: 1.2179 - val_accuracy: 0.8849\n",
            "Epoch 19/20\n",
            "30/30 [==============================] - 9s 306ms/step - loss: 3.7933e-08 - accuracy: 1.0000 - val_loss: 1.2608 - val_accuracy: 0.8853\n",
            "Epoch 20/20\n",
            "30/30 [==============================] - 9s 308ms/step - loss: 2.3039e-08 - accuracy: 1.0000 - val_loss: 1.2915 - val_accuracy: 0.8849\n"
          ]
        }
      ],
      "source": [
        "model = keras.Sequential([\n",
        "    layers.Dense(512, activation=\"relu\"),\n",
        "    layers.Dense(512, activation=\"relu\"),\n",
        "    layers.Dense(1, activation=\"sigmoid\")\n",
        "])\n",
        "model.compile(optimizer=\"rmsprop\",\n",
        "              loss=\"binary_crossentropy\",\n",
        "              metrics=[\"accuracy\"])\n",
        "history_larger_model = model.fit(\n",
        "    train_data, train_labels,\n",
        "    epochs=20, batch_size=512, validation_split=0.4)"
      ]
    },
    {
      "cell_type": "markdown",
      "metadata": {
        "id": "qR7HoE8cPzUg"
      },
      "source": [
        "#### Adding weight regularization"
      ]
    },
    {
      "cell_type": "markdown",
      "metadata": {
        "id": "gtiXgN2RPzUg"
      },
      "source": [
        "**Adding L2 weight regularization to the model**"
      ]
    },
    {
      "cell_type": "code",
      "execution_count": 13,
      "metadata": {
        "id": "qlcm4sEuPzUg",
        "outputId": "1c7634f3-fa91-45da-c373-550ff6538a26",
        "colab": {
          "base_uri": "https://localhost:8080/"
        }
      },
      "outputs": [
        {
          "output_type": "stream",
          "name": "stdout",
          "text": [
            "Epoch 1/20\n",
            "30/30 [==============================] - 2s 53ms/step - loss: 0.5976 - accuracy: 0.7779 - val_loss: 0.4736 - val_accuracy: 0.8670\n",
            "Epoch 2/20\n",
            "30/30 [==============================] - 1s 39ms/step - loss: 0.4043 - accuracy: 0.8946 - val_loss: 0.4097 - val_accuracy: 0.8709\n",
            "Epoch 3/20\n",
            "30/30 [==============================] - 1s 40ms/step - loss: 0.3333 - accuracy: 0.9173 - val_loss: 0.3690 - val_accuracy: 0.8852\n",
            "Epoch 4/20\n",
            "30/30 [==============================] - 1s 39ms/step - loss: 0.3055 - accuracy: 0.9229 - val_loss: 0.3576 - val_accuracy: 0.8898\n",
            "Epoch 5/20\n",
            "30/30 [==============================] - 1s 39ms/step - loss: 0.2798 - accuracy: 0.9332 - val_loss: 0.3750 - val_accuracy: 0.8754\n",
            "Epoch 6/20\n",
            "30/30 [==============================] - 1s 39ms/step - loss: 0.2655 - accuracy: 0.9380 - val_loss: 0.3634 - val_accuracy: 0.8833\n",
            "Epoch 7/20\n",
            "30/30 [==============================] - 1s 40ms/step - loss: 0.2599 - accuracy: 0.9364 - val_loss: 0.3579 - val_accuracy: 0.8858\n",
            "Epoch 8/20\n",
            "30/30 [==============================] - 1s 41ms/step - loss: 0.2509 - accuracy: 0.9422 - val_loss: 0.3631 - val_accuracy: 0.8827\n",
            "Epoch 9/20\n",
            "30/30 [==============================] - 1s 43ms/step - loss: 0.2418 - accuracy: 0.9449 - val_loss: 0.3926 - val_accuracy: 0.8732\n",
            "Epoch 10/20\n",
            "30/30 [==============================] - 1s 41ms/step - loss: 0.2359 - accuracy: 0.9474 - val_loss: 0.4194 - val_accuracy: 0.8625\n",
            "Epoch 11/20\n",
            "30/30 [==============================] - 1s 40ms/step - loss: 0.2327 - accuracy: 0.9482 - val_loss: 0.3754 - val_accuracy: 0.8812\n",
            "Epoch 12/20\n",
            "30/30 [==============================] - 1s 41ms/step - loss: 0.2264 - accuracy: 0.9505 - val_loss: 0.3867 - val_accuracy: 0.8795\n",
            "Epoch 13/20\n",
            "30/30 [==============================] - 1s 40ms/step - loss: 0.2235 - accuracy: 0.9525 - val_loss: 0.3778 - val_accuracy: 0.8811\n",
            "Epoch 14/20\n",
            "30/30 [==============================] - 1s 41ms/step - loss: 0.2216 - accuracy: 0.9517 - val_loss: 0.4923 - val_accuracy: 0.8488\n",
            "Epoch 15/20\n",
            "30/30 [==============================] - 1s 40ms/step - loss: 0.2142 - accuracy: 0.9556 - val_loss: 0.3924 - val_accuracy: 0.8756\n",
            "Epoch 16/20\n",
            "30/30 [==============================] - 1s 40ms/step - loss: 0.2217 - accuracy: 0.9505 - val_loss: 0.4068 - val_accuracy: 0.8748\n",
            "Epoch 17/20\n",
            "30/30 [==============================] - 1s 42ms/step - loss: 0.2094 - accuracy: 0.9594 - val_loss: 0.3945 - val_accuracy: 0.8770\n",
            "Epoch 18/20\n",
            "30/30 [==============================] - 1s 41ms/step - loss: 0.2150 - accuracy: 0.9527 - val_loss: 0.3972 - val_accuracy: 0.8767\n",
            "Epoch 19/20\n",
            "30/30 [==============================] - 1s 40ms/step - loss: 0.2028 - accuracy: 0.9587 - val_loss: 0.4406 - val_accuracy: 0.8622\n",
            "Epoch 20/20\n",
            "30/30 [==============================] - 1s 40ms/step - loss: 0.2078 - accuracy: 0.9564 - val_loss: 0.4082 - val_accuracy: 0.8750\n"
          ]
        }
      ],
      "source": [
        "from tensorflow.keras import regularizers\n",
        "model = keras.Sequential([\n",
        "    layers.Dense(16,\n",
        "                 kernel_regularizer=regularizers.l2(0.002),\n",
        "                 activation=\"relu\"),\n",
        "    layers.Dense(16,\n",
        "                 kernel_regularizer=regularizers.l2(0.002),\n",
        "                 activation=\"relu\"),\n",
        "    layers.Dense(1, activation=\"sigmoid\")\n",
        "])\n",
        "model.compile(optimizer=\"rmsprop\",\n",
        "              loss=\"binary_crossentropy\",\n",
        "              metrics=[\"accuracy\"])\n",
        "history_l2_reg = model.fit(\n",
        "    train_data, train_labels,\n",
        "    epochs=20, batch_size=512, validation_split=0.4)"
      ]
    },
    {
      "cell_type": "markdown",
      "metadata": {
        "id": "hAJvFmHLPzUg"
      },
      "source": [
        "**Different weight regularizers available in Keras**"
      ]
    },
    {
      "cell_type": "code",
      "execution_count": 14,
      "metadata": {
        "id": "4RAQRT4zPzUh",
        "outputId": "35bbbce2-d589-4f5c-da00-067c76f81da1",
        "colab": {
          "base_uri": "https://localhost:8080/"
        }
      },
      "outputs": [
        {
          "output_type": "execute_result",
          "data": {
            "text/plain": [
              "<keras.regularizers.L1L2 at 0x7f35c7437e10>"
            ]
          },
          "metadata": {},
          "execution_count": 14
        }
      ],
      "source": [
        "from tensorflow.keras import regularizers\n",
        "regularizers.l1(0.001)\n",
        "regularizers.l1_l2(l1=0.001, l2=0.001)"
      ]
    },
    {
      "cell_type": "markdown",
      "metadata": {
        "id": "cebZYItmPzUh"
      },
      "source": [
        "#### Adding dropout"
      ]
    },
    {
      "cell_type": "markdown",
      "metadata": {
        "id": "alA5p9QlPzUh"
      },
      "source": [
        "**Adding dropout to the IMDB model**"
      ]
    },
    {
      "cell_type": "code",
      "execution_count": 15,
      "metadata": {
        "id": "o9_kos0TPzUh",
        "outputId": "194fe862-d346-4ce5-b501-ca2716e3b577",
        "colab": {
          "base_uri": "https://localhost:8080/"
        }
      },
      "outputs": [
        {
          "output_type": "stream",
          "name": "stdout",
          "text": [
            "Epoch 1/20\n",
            "30/30 [==============================] - 3s 52ms/step - loss: 0.6289 - accuracy: 0.6411 - val_loss: 0.5117 - val_accuracy: 0.8501\n",
            "Epoch 2/20\n",
            "30/30 [==============================] - 1s 40ms/step - loss: 0.4990 - accuracy: 0.7802 - val_loss: 0.3953 - val_accuracy: 0.8657\n",
            "Epoch 3/20\n",
            "30/30 [==============================] - 1s 40ms/step - loss: 0.4153 - accuracy: 0.8311 - val_loss: 0.3340 - val_accuracy: 0.8795\n",
            "Epoch 4/20\n",
            "30/30 [==============================] - 1s 41ms/step - loss: 0.3524 - accuracy: 0.8690 - val_loss: 0.3000 - val_accuracy: 0.8859\n",
            "Epoch 5/20\n",
            "30/30 [==============================] - 1s 42ms/step - loss: 0.3011 - accuracy: 0.8954 - val_loss: 0.2796 - val_accuracy: 0.8924\n",
            "Epoch 6/20\n",
            "30/30 [==============================] - 1s 41ms/step - loss: 0.2654 - accuracy: 0.9044 - val_loss: 0.2781 - val_accuracy: 0.8926\n",
            "Epoch 7/20\n",
            "30/30 [==============================] - 1s 40ms/step - loss: 0.2306 - accuracy: 0.9193 - val_loss: 0.2831 - val_accuracy: 0.8923\n",
            "Epoch 8/20\n",
            "30/30 [==============================] - 1s 40ms/step - loss: 0.2037 - accuracy: 0.9329 - val_loss: 0.2950 - val_accuracy: 0.8895\n",
            "Epoch 9/20\n",
            "30/30 [==============================] - 1s 40ms/step - loss: 0.1798 - accuracy: 0.9411 - val_loss: 0.3043 - val_accuracy: 0.8912\n",
            "Epoch 10/20\n",
            "30/30 [==============================] - 1s 40ms/step - loss: 0.1590 - accuracy: 0.9479 - val_loss: 0.3348 - val_accuracy: 0.8897\n",
            "Epoch 11/20\n",
            "30/30 [==============================] - 1s 43ms/step - loss: 0.1444 - accuracy: 0.9533 - val_loss: 0.3447 - val_accuracy: 0.8896\n",
            "Epoch 12/20\n",
            "30/30 [==============================] - 1s 42ms/step - loss: 0.1313 - accuracy: 0.9596 - val_loss: 0.3778 - val_accuracy: 0.8905\n",
            "Epoch 13/20\n",
            "30/30 [==============================] - 1s 41ms/step - loss: 0.1212 - accuracy: 0.9617 - val_loss: 0.3959 - val_accuracy: 0.8865\n",
            "Epoch 14/20\n",
            "30/30 [==============================] - 1s 42ms/step - loss: 0.1119 - accuracy: 0.9661 - val_loss: 0.4112 - val_accuracy: 0.8860\n",
            "Epoch 15/20\n",
            "30/30 [==============================] - 1s 43ms/step - loss: 0.1020 - accuracy: 0.9693 - val_loss: 0.4517 - val_accuracy: 0.8869\n",
            "Epoch 16/20\n",
            "30/30 [==============================] - 1s 41ms/step - loss: 0.0966 - accuracy: 0.9701 - val_loss: 0.4678 - val_accuracy: 0.8870\n",
            "Epoch 17/20\n",
            "30/30 [==============================] - 1s 40ms/step - loss: 0.0918 - accuracy: 0.9713 - val_loss: 0.4914 - val_accuracy: 0.8866\n",
            "Epoch 18/20\n",
            "30/30 [==============================] - 1s 41ms/step - loss: 0.0834 - accuracy: 0.9730 - val_loss: 0.5353 - val_accuracy: 0.8864\n",
            "Epoch 19/20\n",
            "30/30 [==============================] - 1s 41ms/step - loss: 0.0797 - accuracy: 0.9771 - val_loss: 0.5382 - val_accuracy: 0.8864\n",
            "Epoch 20/20\n",
            "30/30 [==============================] - 1s 40ms/step - loss: 0.0800 - accuracy: 0.9745 - val_loss: 0.6247 - val_accuracy: 0.8787\n"
          ]
        }
      ],
      "source": [
        "model = keras.Sequential([\n",
        "    layers.Dense(16, activation=\"relu\"),\n",
        "    layers.Dropout(0.5),\n",
        "    layers.Dense(16, activation=\"relu\"),\n",
        "    layers.Dropout(0.5),\n",
        "    layers.Dense(1, activation=\"sigmoid\")\n",
        "])\n",
        "model.compile(optimizer=\"rmsprop\",\n",
        "              loss=\"binary_crossentropy\",\n",
        "              metrics=[\"accuracy\"])\n",
        "history_dropout = model.fit(\n",
        "    train_data, train_labels,\n",
        "    epochs=20, batch_size=512, validation_split=0.4)"
      ]
    }
  ],
  "metadata": {
    "colab": {
      "collapsed_sections": [],
      "name": "chapter05_fundamentals-of-ml.i",
      "provenance": []
    },
    "kernelspec": {
      "display_name": "Python 3",
      "language": "python",
      "name": "python3"
    },
    "language_info": {
      "codemirror_mode": {
        "name": "ipython",
        "version": 3
      },
      "file_extension": ".py",
      "mimetype": "text/x-python",
      "name": "python",
      "nbconvert_exporter": "python",
      "pygments_lexer": "ipython3",
      "version": "3.7.0"
    }
  },
  "nbformat": 4,
  "nbformat_minor": 0
}